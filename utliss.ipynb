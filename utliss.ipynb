{
 "cells": [
  {
   "cell_type": "code",
   "execution_count": 27,
   "id": "26c0e493",
   "metadata": {},
   "outputs": [],
   "source": [
    "import pandas as pd\n",
    "from nervaluate import Evaluator\n"
   ]
  },
  {
   "cell_type": "code",
   "execution_count": 20,
   "id": "0220085c",
   "metadata": {},
   "outputs": [],
   "source": [
    "df = pd.read_csv('TASTEset.csv')\n",
    "df['entities'] = df.ingredients_entities.apply(lambda x: [i['entity'] for i in eval(x) if i['type'] not in ['QUANTITY', 'UNIT']] )\n",
    "df['NER_tags'] = df.ingredients_entities.apply(lambda x: [i['type'] for i in eval(x) if i['type'] not in ['QUANTITY', 'UNIT']] )"
   ]
  },
  {
   "cell_type": "code",
   "execution_count": 24,
   "id": "2f793439",
   "metadata": {},
   "outputs": [],
   "source": [
    "ENTITIES = ['FOOD', 'TASTE', 'COLOR', 'PROCESS', 'PHYSICAL_QUALITY', 'PART', 'PURPOSE']\n",
    "LABEL2ID = {'0':0}\n",
    "idx = 1\n",
    "for entity in Entities:\n",
    "    LABEL2ID[f'B-{entity}'] = idx\n",
    "    idx += 1 \n",
    "    LABEL2ID[f'I-{entity}'] = idx\n",
    "    idx += 1 "
   ]
  },
  {
   "cell_type": "code",
   "execution_count": 28,
   "id": "7e05c12e",
   "metadata": {},
   "outputs": [],
   "source": [
    "def evaluate_predictions(true_entities, pred_entities):\n",
    "    \"\"\"\n",
    "    :param true_entities: list of true entities\n",
    "    :param pred_entities: list of predicted entities\n",
    "    :param format: format of provided entities. If equal to 'bio', entities\n",
    "    are expected of the following format: [[B-FOOD, I-FOOD, O, ...],\n",
    "    [B-UNIT, ...]]. If equal to span, entities are expected of the following\n",
    "    format: [[(0, 6, FOOD), (10, 15, PROCESS), ...], [(0, 2, UNIT), ...]]\n",
    "    :return: metrics for the predicted entities\n",
    "    \"\"\"\n",
    "\n",
    "    evaluator = Evaluator(true_entities, pred_entities, tags=ENTITIES,\n",
    "                              loader=\"list\")\n",
    "\n",
    "    results, results_per_tag = evaluator.evaluate()\n",
    "\n",
    "    results = results[\"strict\"]\n",
    "\n",
    "    for entity in results_per_tag.keys():\n",
    "        results_per_tag[entity] = results_per_tag[entity][\"strict\"]\n",
    "\n",
    "    results_per_tag[\"all\"] = results\n",
    "    return results_per_tag"
   ]
  }
 ],
 "metadata": {
  "kernelspec": {
   "display_name": "Python 3 (ipykernel)",
   "language": "python",
   "name": "python3"
  },
  "language_info": {
   "codemirror_mode": {
    "name": "ipython",
    "version": 3
   },
   "file_extension": ".py",
   "mimetype": "text/x-python",
   "name": "python",
   "nbconvert_exporter": "python",
   "pygments_lexer": "ipython3",
   "version": "3.11.4"
  }
 },
 "nbformat": 4,
 "nbformat_minor": 5
}
