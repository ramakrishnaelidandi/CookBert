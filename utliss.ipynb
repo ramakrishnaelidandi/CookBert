{
 "cells": [
  {
   "cell_type": "code",
   "execution_count": 19,
   "id": "697bfebb",
   "metadata": {},
   "outputs": [
    {
     "data": {
      "text/plain": [
       "7"
      ]
     },
     "execution_count": 19,
     "metadata": {},
     "output_type": "execute_result"
    }
   ],
   "source": [
    "Entities = ['FOOD', 'TASTE', 'COLOUR', 'PROCESS', 'PHYSICAL QUALITY', 'PART', 'POURPOSE']\n",
    "len(Entities)"
   ]
  },
  {
   "cell_type": "code",
   "execution_count": 12,
   "id": "26c0e493",
   "metadata": {},
   "outputs": [],
   "source": [
    "import pandas as pd"
   ]
  },
  {
   "cell_type": "code",
   "execution_count": 13,
   "id": "0220085c",
   "metadata": {},
   "outputs": [],
   "source": [
    "df = pd.read_csv('TASTEset.csv')"
   ]
  },
  {
   "cell_type": "code",
   "execution_count": 14,
   "id": "df5e28f2",
   "metadata": {},
   "outputs": [],
   "source": [
    "df['entities'] = df.ingredients_entities.apply(lambda x: [i['entity'] for i in eval(x) if i['type'] not in ['QUANTITY', 'UNIT']] )"
   ]
  },
  {
   "cell_type": "code",
   "execution_count": 15,
   "id": "c7fca563",
   "metadata": {},
   "outputs": [],
   "source": [
    "df['NER_tags'] = df.ingredients_entities.apply(lambda x: [i['type'] for i in eval(x) if i['type'] not in ['QUANTITY', 'UNIT']] )"
   ]
  },
  {
   "cell_type": "code",
   "execution_count": 16,
   "id": "1b2d9271",
   "metadata": {},
   "outputs": [
    {
     "data": {
      "text/html": [
       "<div>\n",
       "<style scoped>\n",
       "    .dataframe tbody tr th:only-of-type {\n",
       "        vertical-align: middle;\n",
       "    }\n",
       "\n",
       "    .dataframe tbody tr th {\n",
       "        vertical-align: top;\n",
       "    }\n",
       "\n",
       "    .dataframe thead th {\n",
       "        text-align: right;\n",
       "    }\n",
       "</style>\n",
       "<table border=\"1\" class=\"dataframe\">\n",
       "  <thead>\n",
       "    <tr style=\"text-align: right;\">\n",
       "      <th></th>\n",
       "      <th>ingredients</th>\n",
       "      <th>ingredients_entities</th>\n",
       "      <th>entities</th>\n",
       "      <th>NER_tags</th>\n",
       "    </tr>\n",
       "  </thead>\n",
       "  <tbody>\n",
       "    <tr>\n",
       "      <th>0</th>\n",
       "      <td>5 ounces rum\\n4 ounces triple sec\\n3 ounces Ti...</td>\n",
       "      <td>[{\"start\": 0, \"end\": 1, \"type\": \"QUANTITY\", \"e...</td>\n",
       "      <td>[rum, triple sec, Tia Maria, orange juice]</td>\n",
       "      <td>[FOOD, FOOD, FOOD, FOOD]</td>\n",
       "    </tr>\n",
       "    <tr>\n",
       "      <th>1</th>\n",
       "      <td>2 tubes cinnamon roll, refrigerated, with icin...</td>\n",
       "      <td>[{\"start\": 0, \"end\": 1, \"type\": \"QUANTITY\", \"e...</td>\n",
       "      <td>[cinnamon roll, refrigerated, with, icing, but...</td>\n",
       "      <td>[FOOD, PROCESS, FOOD, FOOD, FOOD, PROCESS, FOO...</td>\n",
       "    </tr>\n",
       "    <tr>\n",
       "      <th>2</th>\n",
       "      <td>4 ripe coconuts\\n1 cup evaporated milk\\n1 cup ...</td>\n",
       "      <td>[{\"start\": 0, \"end\": 1, \"type\": \"QUANTITY\", \"e...</td>\n",
       "      <td>[ripe, coconuts, evaporated milk, gin, sugar, ...</td>\n",
       "      <td>[PHYSICAL_QUALITY, FOOD, FOOD, FOOD, FOOD, PRO...</td>\n",
       "    </tr>\n",
       "    <tr>\n",
       "      <th>3</th>\n",
       "      <td>1 sheet graham cracker (broken in half)\\n2 pie...</td>\n",
       "      <td>[{\"start\": 0, \"end\": 1, \"type\": \"QUANTITY\", \"e...</td>\n",
       "      <td>[graham cracker, broken in half, milk chocolat...</td>\n",
       "      <td>[FOOD, PROCESS, FOOD, FOOD, PHYSICAL_QUALITY, ...</td>\n",
       "    </tr>\n",
       "    <tr>\n",
       "      <th>4</th>\n",
       "      <td>1 (8 ounce) package crescent rolls\\n8 slices d...</td>\n",
       "      <td>[{\"start\": 0, \"end\": 1, \"type\": \"QUANTITY\", \"e...</td>\n",
       "      <td>[crescent rolls, deli ham, prepared, mustard, ...</td>\n",
       "      <td>[FOOD, FOOD, PROCESS, FOOD, PROCESS, FOOD, FOO...</td>\n",
       "    </tr>\n",
       "    <tr>\n",
       "      <th>...</th>\n",
       "      <td>...</td>\n",
       "      <td>...</td>\n",
       "      <td>...</td>\n",
       "      <td>...</td>\n",
       "    </tr>\n",
       "    <tr>\n",
       "      <th>695</th>\n",
       "      <td>9 eggs\\n1 (10 ounce) bag Baby Spinach\\n1 mediu...</td>\n",
       "      <td>[{\"start\": 0, \"end\": 1, \"type\": \"QUANTITY\", \"e...</td>\n",
       "      <td>[eggs, Baby Spinach, medium, onion, chopped, o...</td>\n",
       "      <td>[FOOD, FOOD, PHYSICAL_QUALITY, FOOD, PROCESS, ...</td>\n",
       "    </tr>\n",
       "    <tr>\n",
       "      <th>696</th>\n",
       "      <td>1 cup coffee (freshly-brewed hot)\\n1.5 ounces ...</td>\n",
       "      <td>[{\"start\": 0, \"end\": 1, \"type\": \"QUANTITY\", \"e...</td>\n",
       "      <td>[coffee, freshly-brewed hot, Irish whiskey, tu...</td>\n",
       "      <td>[FOOD, PROCESS, FOOD, FOOD, COLOR, FOOD, PROCE...</td>\n",
       "    </tr>\n",
       "    <tr>\n",
       "      <th>697</th>\n",
       "      <td>5 pounds ground beef (the leaner the better)\\n...</td>\n",
       "      <td>[{\"start\": 0, \"end\": 1, \"type\": \"QUANTITY\", \"e...</td>\n",
       "      <td>[ground, beef, onions, minced, garlic, minced,...</td>\n",
       "      <td>[PROCESS, FOOD, FOOD, PROCESS, FOOD, PROCESS, ...</td>\n",
       "    </tr>\n",
       "    <tr>\n",
       "      <th>698</th>\n",
       "      <td>1 1⁄2 ounces tequila\\n2 ounces pineapple juice...</td>\n",
       "      <td>[{\"start\": 0, \"end\": 5, \"type\": \"QUANTITY\", \"e...</td>\n",
       "      <td>[tequila, pineapple juice, lemon juice, fresh,...</td>\n",
       "      <td>[FOOD, FOOD, FOOD, PHYSICAL_QUALITY, FOOD]</td>\n",
       "    </tr>\n",
       "    <tr>\n",
       "      <th>699</th>\n",
       "      <td>14 ounces artichoke hearts (drained and choppe...</td>\n",
       "      <td>[{\"start\": 0, \"end\": 2, \"type\": \"QUANTITY\", \"e...</td>\n",
       "      <td>[artichoke, hearts, drained, chopped, frozen, ...</td>\n",
       "      <td>[FOOD, PART, PROCESS, PROCESS, PHYSICAL_QUALIT...</td>\n",
       "    </tr>\n",
       "  </tbody>\n",
       "</table>\n",
       "<p>700 rows × 4 columns</p>\n",
       "</div>"
      ],
      "text/plain": [
       "                                           ingredients  \\\n",
       "0    5 ounces rum\\n4 ounces triple sec\\n3 ounces Ti...   \n",
       "1    2 tubes cinnamon roll, refrigerated, with icin...   \n",
       "2    4 ripe coconuts\\n1 cup evaporated milk\\n1 cup ...   \n",
       "3    1 sheet graham cracker (broken in half)\\n2 pie...   \n",
       "4    1 (8 ounce) package crescent rolls\\n8 slices d...   \n",
       "..                                                 ...   \n",
       "695  9 eggs\\n1 (10 ounce) bag Baby Spinach\\n1 mediu...   \n",
       "696  1 cup coffee (freshly-brewed hot)\\n1.5 ounces ...   \n",
       "697  5 pounds ground beef (the leaner the better)\\n...   \n",
       "698  1 1⁄2 ounces tequila\\n2 ounces pineapple juice...   \n",
       "699  14 ounces artichoke hearts (drained and choppe...   \n",
       "\n",
       "                                  ingredients_entities  \\\n",
       "0    [{\"start\": 0, \"end\": 1, \"type\": \"QUANTITY\", \"e...   \n",
       "1    [{\"start\": 0, \"end\": 1, \"type\": \"QUANTITY\", \"e...   \n",
       "2    [{\"start\": 0, \"end\": 1, \"type\": \"QUANTITY\", \"e...   \n",
       "3    [{\"start\": 0, \"end\": 1, \"type\": \"QUANTITY\", \"e...   \n",
       "4    [{\"start\": 0, \"end\": 1, \"type\": \"QUANTITY\", \"e...   \n",
       "..                                                 ...   \n",
       "695  [{\"start\": 0, \"end\": 1, \"type\": \"QUANTITY\", \"e...   \n",
       "696  [{\"start\": 0, \"end\": 1, \"type\": \"QUANTITY\", \"e...   \n",
       "697  [{\"start\": 0, \"end\": 1, \"type\": \"QUANTITY\", \"e...   \n",
       "698  [{\"start\": 0, \"end\": 5, \"type\": \"QUANTITY\", \"e...   \n",
       "699  [{\"start\": 0, \"end\": 2, \"type\": \"QUANTITY\", \"e...   \n",
       "\n",
       "                                              entities  \\\n",
       "0           [rum, triple sec, Tia Maria, orange juice]   \n",
       "1    [cinnamon roll, refrigerated, with, icing, but...   \n",
       "2    [ripe, coconuts, evaporated milk, gin, sugar, ...   \n",
       "3    [graham cracker, broken in half, milk chocolat...   \n",
       "4    [crescent rolls, deli ham, prepared, mustard, ...   \n",
       "..                                                 ...   \n",
       "695  [eggs, Baby Spinach, medium, onion, chopped, o...   \n",
       "696  [coffee, freshly-brewed hot, Irish whiskey, tu...   \n",
       "697  [ground, beef, onions, minced, garlic, minced,...   \n",
       "698  [tequila, pineapple juice, lemon juice, fresh,...   \n",
       "699  [artichoke, hearts, drained, chopped, frozen, ...   \n",
       "\n",
       "                                              NER_tags  \n",
       "0                             [FOOD, FOOD, FOOD, FOOD]  \n",
       "1    [FOOD, PROCESS, FOOD, FOOD, FOOD, PROCESS, FOO...  \n",
       "2    [PHYSICAL_QUALITY, FOOD, FOOD, FOOD, FOOD, PRO...  \n",
       "3    [FOOD, PROCESS, FOOD, FOOD, PHYSICAL_QUALITY, ...  \n",
       "4    [FOOD, FOOD, PROCESS, FOOD, PROCESS, FOOD, FOO...  \n",
       "..                                                 ...  \n",
       "695  [FOOD, FOOD, PHYSICAL_QUALITY, FOOD, PROCESS, ...  \n",
       "696  [FOOD, PROCESS, FOOD, FOOD, COLOR, FOOD, PROCE...  \n",
       "697  [PROCESS, FOOD, FOOD, PROCESS, FOOD, PROCESS, ...  \n",
       "698         [FOOD, FOOD, FOOD, PHYSICAL_QUALITY, FOOD]  \n",
       "699  [FOOD, PART, PROCESS, PROCESS, PHYSICAL_QUALIT...  \n",
       "\n",
       "[700 rows x 4 columns]"
      ]
     },
     "execution_count": 16,
     "metadata": {},
     "output_type": "execute_result"
    }
   ],
   "source": [
    "df"
   ]
  },
  {
   "cell_type": "code",
   "execution_count": 17,
   "id": "2f793439",
   "metadata": {},
   "outputs": [],
   "source": [
    "LABEL2ID = {'0':0}\n",
    "idx = 1\n",
    "for entity in Entities:\n",
    "    LABEL2ID[f'B-{entity}'] = idx\n",
    "    idx += 1 \n",
    "    LABEL2ID[f'I-{entity}'] = idx\n",
    "    idx += 1 "
   ]
  },
  {
   "cell_type": "code",
   "execution_count": null,
   "id": "7e05c12e",
   "metadata": {},
   "outputs": [],
   "source": []
  }
 ],
 "metadata": {
  "kernelspec": {
   "display_name": "Python 3 (ipykernel)",
   "language": "python",
   "name": "python3"
  },
  "language_info": {
   "codemirror_mode": {
    "name": "ipython",
    "version": 3
   },
   "file_extension": ".py",
   "mimetype": "text/x-python",
   "name": "python",
   "nbconvert_exporter": "python",
   "pygments_lexer": "ipython3",
   "version": "3.11.4"
  }
 },
 "nbformat": 4,
 "nbformat_minor": 5
}
