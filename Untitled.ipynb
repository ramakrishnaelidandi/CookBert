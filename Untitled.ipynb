{
 "cells": [
  {
   "cell_type": "code",
   "execution_count": 1,
   "id": "0ed09267",
   "metadata": {},
   "outputs": [
    {
     "name": "stdout",
     "output_type": "stream",
     "text": [
      "\u001b[1m\u001b[37muser               \u001b[m  Sat Sep 30 20:01:06 2023  \u001b[1m\u001b[30m470.82.01\u001b[m\r\n",
      "\u001b[36m[0]\u001b[m \u001b[34mQuadro RTX 4000 \u001b[m |\u001b[1m\u001b[31m 86'C\u001b[m, \u001b[1m\u001b[32m 99 %\u001b[m | \u001b[36m\u001b[1m\u001b[33m 6201\u001b[m / \u001b[33m 7979\u001b[m MB | \u001b[1m\u001b[30maditya_2211cs33\u001b[m(\u001b[33m6029M\u001b[m) \u001b[1m\u001b[30mgdm\u001b[m(\u001b[33m39M\u001b[m) \u001b[1m\u001b[30muser\u001b[m(\u001b[33m81M\u001b[m) \u001b[1m\u001b[30muser\u001b[m(\u001b[33m31M\u001b[m)\r\n"
     ]
    }
   ],
   "source": [
    "!gpustat\n"
   ]
  },
  {
   "cell_type": "code",
   "execution_count": null,
   "id": "50d9f837",
   "metadata": {},
   "outputs": [],
   "source": []
  }
 ],
 "metadata": {
  "kernelspec": {
   "display_name": "Python 3 (ipykernel)",
   "language": "python",
   "name": "python3"
  },
  "language_info": {
   "codemirror_mode": {
    "name": "ipython",
    "version": 3
   },
   "file_extension": ".py",
   "mimetype": "text/x-python",
   "name": "python",
   "nbconvert_exporter": "python",
   "pygments_lexer": "ipython3",
   "version": "3.11.5"
  }
 },
 "nbformat": 4,
 "nbformat_minor": 5
}
