{
 "cells": [
  {
   "cell_type": "code",
   "execution_count": 2,
   "id": "f49e5be3",
   "metadata": {},
   "outputs": [
    {
     "name": "stdout",
     "output_type": "stream",
     "text": [
      "Collecting torch\n",
      "  Downloading torch-2.0.1-cp311-cp311-manylinux1_x86_64.whl (619.9 MB)\n",
      "\u001b[2K     \u001b[90m━━━━━━━━━━━━━━━━━━━━━━━━━━━━━━━━━━━━━\u001b[0m \u001b[32m619.9/619.9 MB\u001b[0m \u001b[31m515.8 kB/s\u001b[0m eta \u001b[36m0:00:00\u001b[0m00:01\u001b[0m00:26\u001b[0m\n",
      "\u001b[?25hCollecting filelock (from torch)\n",
      "  Obtaining dependency information for filelock from https://files.pythonhosted.org/packages/5e/5d/97afbafd9d584ff1b45fcb354a479a3609bd97f912f8f1f6c563cb1fae21/filelock-3.12.4-py3-none-any.whl.metadata\n",
      "  Downloading filelock-3.12.4-py3-none-any.whl.metadata (2.8 kB)\n",
      "Requirement already satisfied: typing-extensions in /DATA/elidandi_2211ai08/anaconda3/envs/ramakrishna/lib/python3.11/site-packages (from torch) (4.7.1)\n",
      "Collecting sympy (from torch)\n",
      "  Downloading sympy-1.12-py3-none-any.whl (5.7 MB)\n",
      "\u001b[2K     \u001b[90m━━━━━━━━━━━━━━━━━━━━━━━━━━━━━━━━━━━━━━━━\u001b[0m \u001b[32m5.7/5.7 MB\u001b[0m \u001b[31m1.0 MB/s\u001b[0m eta \u001b[36m0:00:00\u001b[0m00:01\u001b[0m00:01\u001b[0m\n",
      "\u001b[?25hCollecting networkx (from torch)\n",
      "  Downloading networkx-3.1-py3-none-any.whl (2.1 MB)\n",
      "\u001b[2K     \u001b[90m━━━━━━━━━━━━━━━━━━━━━━━━━━━━━━━━━━━━━━━━\u001b[0m \u001b[32m2.1/2.1 MB\u001b[0m \u001b[31m1.1 MB/s\u001b[0m eta \u001b[36m0:00:00\u001b[0m00:01\u001b[0m00:01\u001b[0m0m\n",
      "\u001b[?25hRequirement already satisfied: jinja2 in /DATA/elidandi_2211ai08/anaconda3/envs/ramakrishna/lib/python3.11/site-packages (from torch) (3.1.2)\n",
      "Collecting nvidia-cuda-nvrtc-cu11==11.7.99 (from torch)\n",
      "  Downloading nvidia_cuda_nvrtc_cu11-11.7.99-2-py3-none-manylinux1_x86_64.whl (21.0 MB)\n",
      "\u001b[2K     \u001b[90m━━━━━━━━━━━━━━━━━━━━━━━━━━━━━━━━━━━━━━━━\u001b[0m \u001b[32m21.0/21.0 MB\u001b[0m \u001b[31m1.4 MB/s\u001b[0m eta \u001b[36m0:00:00\u001b[0m00:01\u001b[0m00:01\u001b[0m\n",
      "\u001b[?25hCollecting nvidia-cuda-runtime-cu11==11.7.99 (from torch)\n",
      "  Downloading nvidia_cuda_runtime_cu11-11.7.99-py3-none-manylinux1_x86_64.whl (849 kB)\n",
      "\u001b[2K     \u001b[90m━━━━━━━━━━━━━━━━━━━━━━━━━━━━━━━━━━━━━━━\u001b[0m \u001b[32m849.3/849.3 kB\u001b[0m \u001b[31m1.8 MB/s\u001b[0m eta \u001b[36m0:00:00\u001b[0ma \u001b[36m0:00:01\u001b[0m\n",
      "\u001b[?25hCollecting nvidia-cuda-cupti-cu11==11.7.101 (from torch)\n",
      "  Downloading nvidia_cuda_cupti_cu11-11.7.101-py3-none-manylinux1_x86_64.whl (11.8 MB)\n",
      "\u001b[2K     \u001b[90m━━━━━━━━━━━━━━━━━━━━━━━━━━━━━━━━━━━━━━━━\u001b[0m \u001b[32m11.8/11.8 MB\u001b[0m \u001b[31m2.1 MB/s\u001b[0m eta \u001b[36m0:00:00\u001b[0m00:01\u001b[0m00:01\u001b[0m\n",
      "\u001b[?25hCollecting nvidia-cudnn-cu11==8.5.0.96 (from torch)\n",
      "  Downloading nvidia_cudnn_cu11-8.5.0.96-2-py3-none-manylinux1_x86_64.whl (557.1 MB)\n",
      "\u001b[2K     \u001b[90m━━━━━━━━━━━━━━━━━━━━━━━━━━━━━━━━━━━━━━━\u001b[0m \u001b[32m557.1/557.1 MB\u001b[0m \u001b[31m1.5 MB/s\u001b[0m eta \u001b[36m0:00:00\u001b[0m00:01\u001b[0m00:04\u001b[0m\n",
      "\u001b[?25hCollecting nvidia-cublas-cu11==11.10.3.66 (from torch)\n",
      "  Downloading nvidia_cublas_cu11-11.10.3.66-py3-none-manylinux1_x86_64.whl (317.1 MB)\n",
      "\u001b[2K     \u001b[90m━━━━━━━━━━━━━━━━━━━━━━━━━━━━━━━━━━━━━━━\u001b[0m \u001b[32m317.1/317.1 MB\u001b[0m \u001b[31m3.1 MB/s\u001b[0m eta \u001b[36m0:00:00\u001b[0m00:01\u001b[0m00:02\u001b[0m\n",
      "\u001b[?25hCollecting nvidia-cufft-cu11==10.9.0.58 (from torch)\n",
      "  Downloading nvidia_cufft_cu11-10.9.0.58-py3-none-manylinux1_x86_64.whl (168.4 MB)\n",
      "\u001b[2K     \u001b[90m━━━━━━━━━━━━━━━━━━━━━━━━━━━━━━━━━━━━━━━\u001b[0m \u001b[32m168.4/168.4 MB\u001b[0m \u001b[31m3.0 MB/s\u001b[0m eta \u001b[36m0:00:00\u001b[0m00:01\u001b[0m00:01\u001b[0m\n",
      "\u001b[?25hCollecting nvidia-curand-cu11==10.2.10.91 (from torch)\n",
      "  Downloading nvidia_curand_cu11-10.2.10.91-py3-none-manylinux1_x86_64.whl (54.6 MB)\n",
      "\u001b[2K     \u001b[90m━━━━━━━━━━━━━━━━━━━━━━━━━━━━━━━━━━━━━━━━\u001b[0m \u001b[32m54.6/54.6 MB\u001b[0m \u001b[31m3.2 MB/s\u001b[0m eta \u001b[36m0:00:00\u001b[0m00:01\u001b[0m00:01\u001b[0m\n",
      "\u001b[?25hCollecting nvidia-cusolver-cu11==11.4.0.1 (from torch)\n",
      "  Downloading nvidia_cusolver_cu11-11.4.0.1-2-py3-none-manylinux1_x86_64.whl (102.6 MB)\n",
      "\u001b[2K     \u001b[90m━━━━━━━━━━━━━━━━━━━━━━━━━━━━━━━━━━━━━━━\u001b[0m \u001b[32m102.6/102.6 MB\u001b[0m \u001b[31m3.0 MB/s\u001b[0m eta \u001b[36m0:00:00\u001b[0m00:01\u001b[0m00:01\u001b[0m\n",
      "\u001b[?25hCollecting nvidia-cusparse-cu11==11.7.4.91 (from torch)\n",
      "  Downloading nvidia_cusparse_cu11-11.7.4.91-py3-none-manylinux1_x86_64.whl (173.2 MB)\n",
      "\u001b[2K     \u001b[90m━━━━━━━━━━━━━━━━━━━━━━━━━━━━━━━━━━━━━━━\u001b[0m \u001b[32m173.2/173.2 MB\u001b[0m \u001b[31m3.5 MB/s\u001b[0m eta \u001b[36m0:00:00\u001b[0m00:01\u001b[0m00:01\u001b[0m\n",
      "\u001b[?25hCollecting nvidia-nccl-cu11==2.14.3 (from torch)\n",
      "  Downloading nvidia_nccl_cu11-2.14.3-py3-none-manylinux1_x86_64.whl (177.1 MB)\n",
      "\u001b[2K     \u001b[90m━━━━━━━━━━━━━━━━━━━━━━━━━━━━━━━━━━━━━━━\u001b[0m \u001b[32m177.1/177.1 MB\u001b[0m \u001b[31m2.5 MB/s\u001b[0m eta \u001b[36m0:00:00\u001b[0m00:01\u001b[0m00:02\u001b[0m\n",
      "\u001b[?25hCollecting nvidia-nvtx-cu11==11.7.91 (from torch)\n",
      "  Downloading nvidia_nvtx_cu11-11.7.91-py3-none-manylinux1_x86_64.whl (98 kB)\n",
      "\u001b[2K     \u001b[90m━━━━━━━━━━━━━━━━━━━━━━━━━━━━━━━━━━━━━━━\u001b[0m \u001b[32m98.6/98.6 kB\u001b[0m \u001b[31m934.7 kB/s\u001b[0m eta \u001b[36m0:00:00\u001b[0m:--:--\u001b[0m\n",
      "\u001b[?25hCollecting triton==2.0.0 (from torch)\n",
      "  Downloading triton-2.0.0-1-cp311-cp311-manylinux2014_x86_64.manylinux_2_17_x86_64.whl (63.3 MB)\n",
      "\u001b[2K     \u001b[90m━━━━━━━━━━━━━━━━━━━━━━━━━━━━━━━━━━━━━━━━\u001b[0m \u001b[32m63.3/63.3 MB\u001b[0m \u001b[31m1.1 MB/s\u001b[0m eta \u001b[36m0:00:00\u001b[0m00:01\u001b[0m00:02\u001b[0m\n",
      "\u001b[?25hRequirement already satisfied: setuptools in /DATA/elidandi_2211ai08/anaconda3/envs/ramakrishna/lib/python3.11/site-packages (from nvidia-cublas-cu11==11.10.3.66->torch) (68.0.0)\n",
      "Requirement already satisfied: wheel in /DATA/elidandi_2211ai08/anaconda3/envs/ramakrishna/lib/python3.11/site-packages (from nvidia-cublas-cu11==11.10.3.66->torch) (0.38.4)\n",
      "Collecting cmake (from triton==2.0.0->torch)\n",
      "  Obtaining dependency information for cmake from https://files.pythonhosted.org/packages/de/94/cba4b3ddc0d4555967cce8fd6e9fbced98a6bf62857db71c2400a7b6e183/cmake-3.27.5-py2.py3-none-manylinux2014_x86_64.manylinux_2_17_x86_64.whl.metadata\n",
      "  Downloading cmake-3.27.5-py2.py3-none-manylinux2014_x86_64.manylinux_2_17_x86_64.whl.metadata (6.7 kB)\n",
      "Collecting lit (from triton==2.0.0->torch)\n",
      "  Downloading lit-17.0.1.tar.gz (154 kB)\n",
      "\u001b[2K     \u001b[90m━━━━━━━━━━━━━━━━━━━━━━━━━━━━━━━━━━━━━\u001b[0m \u001b[32m154.7/154.7 kB\u001b[0m \u001b[31m694.5 kB/s\u001b[0m eta \u001b[36m0:00:00\u001b[0ma \u001b[36m0:00:01\u001b[0m\n",
      "\u001b[?25h  Installing build dependencies ... \u001b[?25ldone\n",
      "\u001b[?25h  Getting requirements to build wheel ... \u001b[?25ldone\n",
      "\u001b[?25h  Installing backend dependencies ... \u001b[?25ldone\n",
      "\u001b[?25h  Preparing metadata (pyproject.toml) ... \u001b[?25ldone\n",
      "\u001b[?25hRequirement already satisfied: MarkupSafe>=2.0 in /DATA/elidandi_2211ai08/anaconda3/envs/ramakrishna/lib/python3.11/site-packages (from jinja2->torch) (2.1.1)\n",
      "Collecting mpmath>=0.19 (from sympy->torch)\n",
      "  Downloading mpmath-1.3.0-py3-none-any.whl (536 kB)\n",
      "\u001b[2K     \u001b[90m━━━━━━━━━━━━━━━━━━━━━━━━━━━━━━━━━━━━━\u001b[0m \u001b[32m536.2/536.2 kB\u001b[0m \u001b[31m554.6 kB/s\u001b[0m eta \u001b[36m0:00:00\u001b[0m00:01\u001b[0m00:01\u001b[0m\n",
      "\u001b[?25hDownloading filelock-3.12.4-py3-none-any.whl (11 kB)\n",
      "Downloading cmake-3.27.5-py2.py3-none-manylinux2014_x86_64.manylinux_2_17_x86_64.whl (26.1 MB)\n",
      "\u001b[2K   \u001b[90m━━━━━━━━━━━━━━━━━━━━━━━━━━━━━━━━━━━━━━━━\u001b[0m \u001b[32m26.1/26.1 MB\u001b[0m \u001b[31m2.0 MB/s\u001b[0m eta \u001b[36m0:00:00\u001b[0m00:01\u001b[0m00:01\u001b[0m\n",
      "\u001b[?25hBuilding wheels for collected packages: lit\n",
      "  Building wheel for lit (pyproject.toml) ... \u001b[?25ldone\n",
      "\u001b[?25h  Created wheel for lit: filename=lit-17.0.1-py3-none-any.whl size=93254 sha256=8786966bf789c43ce3adf26890e3b6ceb9b94244953a1f926f6a6de9cc792126\n",
      "  Stored in directory: /DATA/elidandi_2211ai08/.cache/pip/wheels/eb/ce/46/c324e3357f45d906d7ac40d0d87715b57768c63b08ee2aae2d\n",
      "Successfully built lit\n",
      "Installing collected packages: mpmath, lit, cmake, sympy, nvidia-nvtx-cu11, nvidia-nccl-cu11, nvidia-cusparse-cu11, nvidia-curand-cu11, nvidia-cufft-cu11, nvidia-cuda-runtime-cu11, nvidia-cuda-nvrtc-cu11, nvidia-cuda-cupti-cu11, nvidia-cublas-cu11, networkx, filelock, nvidia-cusolver-cu11, nvidia-cudnn-cu11, triton, torch\n",
      "Successfully installed cmake-3.27.5 filelock-3.12.4 lit-17.0.1 mpmath-1.3.0 networkx-3.1 nvidia-cublas-cu11-11.10.3.66 nvidia-cuda-cupti-cu11-11.7.101 nvidia-cuda-nvrtc-cu11-11.7.99 nvidia-cuda-runtime-cu11-11.7.99 nvidia-cudnn-cu11-8.5.0.96 nvidia-cufft-cu11-10.9.0.58 nvidia-curand-cu11-10.2.10.91 nvidia-cusolver-cu11-11.4.0.1 nvidia-cusparse-cu11-11.7.4.91 nvidia-nccl-cu11-2.14.3 nvidia-nvtx-cu11-11.7.91 sympy-1.12 torch-2.0.1 triton-2.0.0\n",
      "\u001b[31mERROR: Could not find a version that satisfies the requirement trannsformer (from versions: none)\u001b[0m\u001b[31m\n",
      "\u001b[0m\u001b[31mERROR: No matching distribution found for trannsformer\u001b[0m\u001b[31m\n",
      "\u001b[0m"
     ]
    }
   ],
   "source": [
    "!pip install torch\n",
    "!pip install trannsformers"
   ]
  },
  {
   "cell_type": "code",
   "execution_count": 8,
   "id": "e66e6155",
   "metadata": {},
   "outputs": [],
   "source": [
    "import torch\n",
    "import pandas as pd"
   ]
  },
  {
   "cell_type": "code",
   "execution_count": 28,
   "id": "2ca2081e",
   "metadata": {},
   "outputs": [
    {
     "name": "stdout",
     "output_type": "stream",
     "text": [
      "Requirement already satisfied: jupyterthemes in /DATA/elidandi_2211ai08/anaconda3/envs/ramakrishna/lib/python3.11/site-packages (0.20.0)\n",
      "Requirement already satisfied: jupyter-core in /DATA/elidandi_2211ai08/anaconda3/envs/ramakrishna/lib/python3.11/site-packages (from jupyterthemes) (5.3.0)\n",
      "Requirement already satisfied: notebook>=5.6.0 in /DATA/elidandi_2211ai08/anaconda3/envs/ramakrishna/lib/python3.11/site-packages (from jupyterthemes) (6.5.4)\n",
      "Requirement already satisfied: ipython>=5.4.1 in /DATA/elidandi_2211ai08/anaconda3/envs/ramakrishna/lib/python3.11/site-packages (from jupyterthemes) (8.15.0)\n",
      "Requirement already satisfied: matplotlib>=1.4.3 in /DATA/elidandi_2211ai08/anaconda3/envs/ramakrishna/lib/python3.11/site-packages (from jupyterthemes) (3.8.0)\n",
      "Requirement already satisfied: lesscpy>=0.11.2 in /DATA/elidandi_2211ai08/anaconda3/envs/ramakrishna/lib/python3.11/site-packages (from jupyterthemes) (0.15.1)\n",
      "Requirement already satisfied: backcall in /DATA/elidandi_2211ai08/anaconda3/envs/ramakrishna/lib/python3.11/site-packages (from ipython>=5.4.1->jupyterthemes) (0.2.0)\n",
      "Requirement already satisfied: decorator in /DATA/elidandi_2211ai08/anaconda3/envs/ramakrishna/lib/python3.11/site-packages (from ipython>=5.4.1->jupyterthemes) (5.1.1)\n",
      "Requirement already satisfied: jedi>=0.16 in /DATA/elidandi_2211ai08/anaconda3/envs/ramakrishna/lib/python3.11/site-packages (from ipython>=5.4.1->jupyterthemes) (0.18.1)\n",
      "Requirement already satisfied: matplotlib-inline in /DATA/elidandi_2211ai08/anaconda3/envs/ramakrishna/lib/python3.11/site-packages (from ipython>=5.4.1->jupyterthemes) (0.1.6)\n",
      "Requirement already satisfied: pickleshare in /DATA/elidandi_2211ai08/anaconda3/envs/ramakrishna/lib/python3.11/site-packages (from ipython>=5.4.1->jupyterthemes) (0.7.5)\n",
      "Requirement already satisfied: prompt-toolkit!=3.0.37,<3.1.0,>=3.0.30 in /DATA/elidandi_2211ai08/anaconda3/envs/ramakrishna/lib/python3.11/site-packages (from ipython>=5.4.1->jupyterthemes) (3.0.36)\n",
      "Requirement already satisfied: pygments>=2.4.0 in /DATA/elidandi_2211ai08/anaconda3/envs/ramakrishna/lib/python3.11/site-packages (from ipython>=5.4.1->jupyterthemes) (2.15.1)\n",
      "Requirement already satisfied: stack-data in /DATA/elidandi_2211ai08/anaconda3/envs/ramakrishna/lib/python3.11/site-packages (from ipython>=5.4.1->jupyterthemes) (0.2.0)\n",
      "Requirement already satisfied: traitlets>=5 in /DATA/elidandi_2211ai08/anaconda3/envs/ramakrishna/lib/python3.11/site-packages (from ipython>=5.4.1->jupyterthemes) (5.7.1)\n",
      "Requirement already satisfied: pexpect>4.3 in /DATA/elidandi_2211ai08/anaconda3/envs/ramakrishna/lib/python3.11/site-packages (from ipython>=5.4.1->jupyterthemes) (4.8.0)\n",
      "Requirement already satisfied: ply in /DATA/elidandi_2211ai08/anaconda3/envs/ramakrishna/lib/python3.11/site-packages (from lesscpy>=0.11.2->jupyterthemes) (3.11)\n",
      "Requirement already satisfied: contourpy>=1.0.1 in /DATA/elidandi_2211ai08/anaconda3/envs/ramakrishna/lib/python3.11/site-packages (from matplotlib>=1.4.3->jupyterthemes) (1.1.1)\n",
      "Requirement already satisfied: cycler>=0.10 in /DATA/elidandi_2211ai08/anaconda3/envs/ramakrishna/lib/python3.11/site-packages (from matplotlib>=1.4.3->jupyterthemes) (0.12.0)\n",
      "Requirement already satisfied: fonttools>=4.22.0 in /DATA/elidandi_2211ai08/anaconda3/envs/ramakrishna/lib/python3.11/site-packages (from matplotlib>=1.4.3->jupyterthemes) (4.42.1)\n",
      "Requirement already satisfied: kiwisolver>=1.0.1 in /DATA/elidandi_2211ai08/anaconda3/envs/ramakrishna/lib/python3.11/site-packages (from matplotlib>=1.4.3->jupyterthemes) (1.4.5)\n",
      "Requirement already satisfied: numpy<2,>=1.21 in /DATA/elidandi_2211ai08/anaconda3/envs/ramakrishna/lib/python3.11/site-packages (from matplotlib>=1.4.3->jupyterthemes) (1.26.0)\n",
      "Requirement already satisfied: packaging>=20.0 in /DATA/elidandi_2211ai08/anaconda3/envs/ramakrishna/lib/python3.11/site-packages (from matplotlib>=1.4.3->jupyterthemes) (23.1)\n",
      "Requirement already satisfied: pillow>=6.2.0 in /DATA/elidandi_2211ai08/anaconda3/envs/ramakrishna/lib/python3.11/site-packages (from matplotlib>=1.4.3->jupyterthemes) (10.0.1)\n",
      "Requirement already satisfied: pyparsing>=2.3.1 in /DATA/elidandi_2211ai08/anaconda3/envs/ramakrishna/lib/python3.11/site-packages (from matplotlib>=1.4.3->jupyterthemes) (3.1.1)\n",
      "Requirement already satisfied: python-dateutil>=2.7 in /DATA/elidandi_2211ai08/anaconda3/envs/ramakrishna/lib/python3.11/site-packages (from matplotlib>=1.4.3->jupyterthemes) (2.8.2)\n",
      "Requirement already satisfied: jinja2 in /DATA/elidandi_2211ai08/anaconda3/envs/ramakrishna/lib/python3.11/site-packages (from notebook>=5.6.0->jupyterthemes) (3.1.2)\n",
      "Requirement already satisfied: tornado>=6.1 in /DATA/elidandi_2211ai08/anaconda3/envs/ramakrishna/lib/python3.11/site-packages (from notebook>=5.6.0->jupyterthemes) (6.3.2)\n",
      "Requirement already satisfied: pyzmq>=17 in /DATA/elidandi_2211ai08/anaconda3/envs/ramakrishna/lib/python3.11/site-packages (from notebook>=5.6.0->jupyterthemes) (23.2.0)\n",
      "Requirement already satisfied: argon2-cffi in /DATA/elidandi_2211ai08/anaconda3/envs/ramakrishna/lib/python3.11/site-packages (from notebook>=5.6.0->jupyterthemes) (21.3.0)\n",
      "Requirement already satisfied: jupyter-client>=5.3.4 in /DATA/elidandi_2211ai08/anaconda3/envs/ramakrishna/lib/python3.11/site-packages (from notebook>=5.6.0->jupyterthemes) (7.4.9)\n",
      "Requirement already satisfied: ipython-genutils in /DATA/elidandi_2211ai08/anaconda3/envs/ramakrishna/lib/python3.11/site-packages (from notebook>=5.6.0->jupyterthemes) (0.2.0)\n",
      "Requirement already satisfied: nbformat in /DATA/elidandi_2211ai08/anaconda3/envs/ramakrishna/lib/python3.11/site-packages (from notebook>=5.6.0->jupyterthemes) (5.9.2)\n",
      "Requirement already satisfied: nbconvert>=5 in /DATA/elidandi_2211ai08/anaconda3/envs/ramakrishna/lib/python3.11/site-packages (from notebook>=5.6.0->jupyterthemes) (6.5.4)\n",
      "Requirement already satisfied: nest-asyncio>=1.5 in /DATA/elidandi_2211ai08/anaconda3/envs/ramakrishna/lib/python3.11/site-packages (from notebook>=5.6.0->jupyterthemes) (1.5.6)\n",
      "Requirement already satisfied: ipykernel in /DATA/elidandi_2211ai08/anaconda3/envs/ramakrishna/lib/python3.11/site-packages (from notebook>=5.6.0->jupyterthemes) (6.25.0)\n",
      "Requirement already satisfied: Send2Trash>=1.8.0 in /DATA/elidandi_2211ai08/anaconda3/envs/ramakrishna/lib/python3.11/site-packages (from notebook>=5.6.0->jupyterthemes) (1.8.0)\n",
      "Requirement already satisfied: terminado>=0.8.3 in /DATA/elidandi_2211ai08/anaconda3/envs/ramakrishna/lib/python3.11/site-packages (from notebook>=5.6.0->jupyterthemes) (0.17.1)\n",
      "Requirement already satisfied: prometheus-client in /DATA/elidandi_2211ai08/anaconda3/envs/ramakrishna/lib/python3.11/site-packages (from notebook>=5.6.0->jupyterthemes) (0.14.1)\n",
      "Requirement already satisfied: nbclassic>=0.4.7 in /DATA/elidandi_2211ai08/anaconda3/envs/ramakrishna/lib/python3.11/site-packages (from notebook>=5.6.0->jupyterthemes) (0.5.5)\n",
      "Requirement already satisfied: platformdirs>=2.5 in /DATA/elidandi_2211ai08/anaconda3/envs/ramakrishna/lib/python3.11/site-packages (from jupyter-core->jupyterthemes) (3.10.0)\n",
      "Requirement already satisfied: parso<0.9.0,>=0.8.0 in /DATA/elidandi_2211ai08/anaconda3/envs/ramakrishna/lib/python3.11/site-packages (from jedi>=0.16->ipython>=5.4.1->jupyterthemes) (0.8.3)\n",
      "Requirement already satisfied: entrypoints in /DATA/elidandi_2211ai08/anaconda3/envs/ramakrishna/lib/python3.11/site-packages (from jupyter-client>=5.3.4->notebook>=5.6.0->jupyterthemes) (0.4)\n",
      "Requirement already satisfied: jupyter-server>=1.8 in /DATA/elidandi_2211ai08/anaconda3/envs/ramakrishna/lib/python3.11/site-packages (from nbclassic>=0.4.7->notebook>=5.6.0->jupyterthemes) (1.23.4)\n",
      "Requirement already satisfied: notebook-shim>=0.1.0 in /DATA/elidandi_2211ai08/anaconda3/envs/ramakrishna/lib/python3.11/site-packages (from nbclassic>=0.4.7->notebook>=5.6.0->jupyterthemes) (0.2.2)\n",
      "Requirement already satisfied: lxml in /DATA/elidandi_2211ai08/anaconda3/envs/ramakrishna/lib/python3.11/site-packages (from nbconvert>=5->notebook>=5.6.0->jupyterthemes) (4.9.2)\n",
      "Requirement already satisfied: beautifulsoup4 in /DATA/elidandi_2211ai08/anaconda3/envs/ramakrishna/lib/python3.11/site-packages (from nbconvert>=5->notebook>=5.6.0->jupyterthemes) (4.12.2)\n",
      "Requirement already satisfied: bleach in /DATA/elidandi_2211ai08/anaconda3/envs/ramakrishna/lib/python3.11/site-packages (from nbconvert>=5->notebook>=5.6.0->jupyterthemes) (4.1.0)\n",
      "Requirement already satisfied: defusedxml in /DATA/elidandi_2211ai08/anaconda3/envs/ramakrishna/lib/python3.11/site-packages (from nbconvert>=5->notebook>=5.6.0->jupyterthemes) (0.7.1)\n",
      "Requirement already satisfied: jupyterlab-pygments in /DATA/elidandi_2211ai08/anaconda3/envs/ramakrishna/lib/python3.11/site-packages (from nbconvert>=5->notebook>=5.6.0->jupyterthemes) (0.1.2)\n",
      "Requirement already satisfied: MarkupSafe>=2.0 in /DATA/elidandi_2211ai08/anaconda3/envs/ramakrishna/lib/python3.11/site-packages (from nbconvert>=5->notebook>=5.6.0->jupyterthemes) (2.1.1)\n"
     ]
    },
    {
     "name": "stdout",
     "output_type": "stream",
     "text": [
      "Requirement already satisfied: mistune<2,>=0.8.1 in /DATA/elidandi_2211ai08/anaconda3/envs/ramakrishna/lib/python3.11/site-packages (from nbconvert>=5->notebook>=5.6.0->jupyterthemes) (0.8.4)\n",
      "Requirement already satisfied: nbclient>=0.5.0 in /DATA/elidandi_2211ai08/anaconda3/envs/ramakrishna/lib/python3.11/site-packages (from nbconvert>=5->notebook>=5.6.0->jupyterthemes) (0.5.13)\n",
      "Requirement already satisfied: pandocfilters>=1.4.1 in /DATA/elidandi_2211ai08/anaconda3/envs/ramakrishna/lib/python3.11/site-packages (from nbconvert>=5->notebook>=5.6.0->jupyterthemes) (1.5.0)\n",
      "Requirement already satisfied: tinycss2 in /DATA/elidandi_2211ai08/anaconda3/envs/ramakrishna/lib/python3.11/site-packages (from nbconvert>=5->notebook>=5.6.0->jupyterthemes) (1.2.1)\n",
      "Requirement already satisfied: fastjsonschema in /DATA/elidandi_2211ai08/anaconda3/envs/ramakrishna/lib/python3.11/site-packages (from nbformat->notebook>=5.6.0->jupyterthemes) (2.16.2)\n",
      "Requirement already satisfied: jsonschema>=2.6 in /DATA/elidandi_2211ai08/anaconda3/envs/ramakrishna/lib/python3.11/site-packages (from nbformat->notebook>=5.6.0->jupyterthemes) (4.17.3)\n",
      "Requirement already satisfied: ptyprocess>=0.5 in /DATA/elidandi_2211ai08/anaconda3/envs/ramakrishna/lib/python3.11/site-packages (from pexpect>4.3->ipython>=5.4.1->jupyterthemes) (0.7.0)\n",
      "Requirement already satisfied: wcwidth in /DATA/elidandi_2211ai08/anaconda3/envs/ramakrishna/lib/python3.11/site-packages (from prompt-toolkit!=3.0.37,<3.1.0,>=3.0.30->ipython>=5.4.1->jupyterthemes) (0.2.5)\n",
      "Requirement already satisfied: six>=1.5 in /DATA/elidandi_2211ai08/anaconda3/envs/ramakrishna/lib/python3.11/site-packages (from python-dateutil>=2.7->matplotlib>=1.4.3->jupyterthemes) (1.16.0)\n",
      "Requirement already satisfied: argon2-cffi-bindings in /DATA/elidandi_2211ai08/anaconda3/envs/ramakrishna/lib/python3.11/site-packages (from argon2-cffi->notebook>=5.6.0->jupyterthemes) (21.2.0)\n",
      "Requirement already satisfied: comm>=0.1.1 in /DATA/elidandi_2211ai08/anaconda3/envs/ramakrishna/lib/python3.11/site-packages (from ipykernel->notebook>=5.6.0->jupyterthemes) (0.1.2)\n",
      "Requirement already satisfied: debugpy>=1.6.5 in /DATA/elidandi_2211ai08/anaconda3/envs/ramakrishna/lib/python3.11/site-packages (from ipykernel->notebook>=5.6.0->jupyterthemes) (1.6.7)\n",
      "Requirement already satisfied: psutil in /DATA/elidandi_2211ai08/anaconda3/envs/ramakrishna/lib/python3.11/site-packages (from ipykernel->notebook>=5.6.0->jupyterthemes) (5.9.0)\n",
      "Requirement already satisfied: executing in /DATA/elidandi_2211ai08/anaconda3/envs/ramakrishna/lib/python3.11/site-packages (from stack-data->ipython>=5.4.1->jupyterthemes) (0.8.3)\n",
      "Requirement already satisfied: asttokens in /DATA/elidandi_2211ai08/anaconda3/envs/ramakrishna/lib/python3.11/site-packages (from stack-data->ipython>=5.4.1->jupyterthemes) (2.0.5)\n",
      "Requirement already satisfied: pure-eval in /DATA/elidandi_2211ai08/anaconda3/envs/ramakrishna/lib/python3.11/site-packages (from stack-data->ipython>=5.4.1->jupyterthemes) (0.2.2)\n",
      "Requirement already satisfied: attrs>=17.4.0 in /DATA/elidandi_2211ai08/anaconda3/envs/ramakrishna/lib/python3.11/site-packages (from jsonschema>=2.6->nbformat->notebook>=5.6.0->jupyterthemes) (22.1.0)\n",
      "Requirement already satisfied: pyrsistent!=0.17.0,!=0.17.1,!=0.17.2,>=0.14.0 in /DATA/elidandi_2211ai08/anaconda3/envs/ramakrishna/lib/python3.11/site-packages (from jsonschema>=2.6->nbformat->notebook>=5.6.0->jupyterthemes) (0.18.0)\n",
      "Requirement already satisfied: anyio<4,>=3.1.0 in /DATA/elidandi_2211ai08/anaconda3/envs/ramakrishna/lib/python3.11/site-packages (from jupyter-server>=1.8->nbclassic>=0.4.7->notebook>=5.6.0->jupyterthemes) (3.5.0)\n",
      "Requirement already satisfied: websocket-client in /DATA/elidandi_2211ai08/anaconda3/envs/ramakrishna/lib/python3.11/site-packages (from jupyter-server>=1.8->nbclassic>=0.4.7->notebook>=5.6.0->jupyterthemes) (0.58.0)\n",
      "Requirement already satisfied: cffi>=1.0.1 in /DATA/elidandi_2211ai08/anaconda3/envs/ramakrishna/lib/python3.11/site-packages (from argon2-cffi-bindings->argon2-cffi->notebook>=5.6.0->jupyterthemes) (1.15.1)\n",
      "Requirement already satisfied: soupsieve>1.2 in /DATA/elidandi_2211ai08/anaconda3/envs/ramakrishna/lib/python3.11/site-packages (from beautifulsoup4->nbconvert>=5->notebook>=5.6.0->jupyterthemes) (2.4)\n",
      "Requirement already satisfied: webencodings in /DATA/elidandi_2211ai08/anaconda3/envs/ramakrishna/lib/python3.11/site-packages (from bleach->nbconvert>=5->notebook>=5.6.0->jupyterthemes) (0.5.1)\n",
      "Requirement already satisfied: idna>=2.8 in /DATA/elidandi_2211ai08/anaconda3/envs/ramakrishna/lib/python3.11/site-packages (from anyio<4,>=3.1.0->jupyter-server>=1.8->nbclassic>=0.4.7->notebook>=5.6.0->jupyterthemes) (3.4)\n",
      "Requirement already satisfied: sniffio>=1.1 in /DATA/elidandi_2211ai08/anaconda3/envs/ramakrishna/lib/python3.11/site-packages (from anyio<4,>=3.1.0->jupyter-server>=1.8->nbclassic>=0.4.7->notebook>=5.6.0->jupyterthemes) (1.2.0)\n",
      "Requirement already satisfied: pycparser in /DATA/elidandi_2211ai08/anaconda3/envs/ramakrishna/lib/python3.11/site-packages (from cffi>=1.0.1->argon2-cffi-bindings->argon2-cffi->notebook>=5.6.0->jupyterthemes) (2.21)\n"
     ]
    }
   ],
   "source": [
    "%run utliss.ipynb -- quiet"
   ]
  },
  {
   "cell_type": "code",
   "execution_count": 31,
   "id": "e21e6aa6",
   "metadata": {},
   "outputs": [],
   "source": [
    "# from utlis import Entities\n",
    "LABEL2ID = {'0':0}\n",
    "idx = 1\n",
    "for entity in Entities:\n",
    "    LABEL2ID[f'B-{entity}'] = idx\n",
    "    idx += 1 \n",
    "    LABEL2ID[f'I-{entity}'] = idx\n",
    "    idx += 1 "
   ]
  },
  {
   "cell_type": "code",
   "execution_count": 32,
   "id": "32bfff04",
   "metadata": {},
   "outputs": [
    {
     "data": {
      "text/plain": [
       "{'0': 0,\n",
       " 'B-FOOD': 1,\n",
       " 'I-FOOD': 2,\n",
       " 'B-UNIT': 3,\n",
       " 'I-UNIT': 4,\n",
       " 'B-QUANTITY': 5,\n",
       " 'I-QUANTITY': 6,\n",
       " 'B-TASTE': 7,\n",
       " 'I-TASTE': 8,\n",
       " 'B-COLOUR': 9,\n",
       " 'I-COLOUR': 10,\n",
       " 'B-PROCESS': 11,\n",
       " 'I-PROCESS': 12,\n",
       " 'B-PHYSICAL QUALITY': 13,\n",
       " 'I-PHYSICAL QUALITY': 14,\n",
       " 'B-PART': 15,\n",
       " 'I-PART': 16,\n",
       " 'B-POURPOSE': 17,\n",
       " 'I-POURPOSE': 18}"
      ]
     },
     "execution_count": 32,
     "metadata": {},
     "output_type": "execute_result"
    }
   ],
   "source": [
    "LABEL2ID"
   ]
  },
  {
   "cell_type": "code",
   "execution_count": null,
   "id": "b185bcec",
   "metadata": {},
   "outputs": [],
   "source": []
  }
 ],
 "metadata": {
  "kernelspec": {
   "display_name": "Python 3 (ipykernel)",
   "language": "python",
   "name": "python3"
  },
  "language_info": {
   "codemirror_mode": {
    "name": "ipython",
    "version": 3
   },
   "file_extension": ".py",
   "mimetype": "text/x-python",
   "name": "python",
   "nbconvert_exporter": "python",
   "pygments_lexer": "ipython3",
   "version": "3.11.5"
  }
 },
 "nbformat": 4,
 "nbformat_minor": 5
}
