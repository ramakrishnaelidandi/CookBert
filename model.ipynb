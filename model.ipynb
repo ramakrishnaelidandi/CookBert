{
 "cells": [
  {
   "cell_type": "code",
   "execution_count": null,
   "id": "17a99dcd",
   "metadata": {},
   "outputs": [],
   "source": []
  },
  {
   "cell_type": "code",
   "execution_count": 1,
   "id": "e66e6155",
   "metadata": {},
   "outputs": [],
   "source": [
    "import numpy as np\n",
    "import pandas as pd\n",
    "from sklearn.model_selection import KFold\n",
    "import re\n",
    "import json\n",
    "# from utliss import evaluate_predictions, ENTITIES,LABEL2ID,df\n",
    "from transformers import (BertForTokenClassification, AutoTokenizer, Trainer,\n",
    "                          TrainingArguments, DataCollatorForTokenClassification)\n",
    "from datasets import Dataset"
   ]
  },
  {
   "cell_type": "code",
   "execution_count": 2,
   "id": "ac5babff",
   "metadata": {
    "scrolled": true
   },
   "outputs": [
    {
     "name": "stdout",
     "output_type": "stream",
     "text": [
      "Requirement already satisfied: sklearn in /DATA/elidandi_2211ai08/anaconda3/lib/python3.11/site-packages (0.0.post9)\n"
     ]
    }
   ],
   "source": [
    "%run utliss.ipynb -- quiet"
   ]
  },
  {
   "cell_type": "code",
   "execution_count": 3,
   "id": "9b49a3d1",
   "metadata": {},
   "outputs": [],
   "source": [
    "# from utliss import LABEL2ID\n",
    "CONFIG ={\n",
    "    'bert_type' : 'distilbert-base-cased',\n",
    "    'label2id' : LABEL2ID,\n",
    "    'training_args' : {\n",
    "        \"output_dir\": './bert-checkpoints',\n",
    "        \"learning_rate\": 2e-5,\n",
    "        \"per_device_train_batch_size\": 16,\n",
    "        \"per_device_eval_batch_size\": 32,\n",
    "        \"num_train_epochs\": 30,\n",
    "        \"weight_decay\": 0.01\n",
    "                      },\n",
    "    'only_first_token': False,\n",
    "    'max_length' : 128\n",
    "}"
   ]
  },
  {
   "cell_type": "code",
   "execution_count": 4,
   "id": "767cc88b",
   "metadata": {},
   "outputs": [],
   "source": [
    "def tokenize_and_allign(reciepe, labels, tokenizer, label_ids, only_first_token):\n",
    "    \"\"\"\n",
    "    :param recipes: list of lists of words from a recipe\n",
    "    :param labels: list of lists of labels from a recipe\n",
    "    :return: a dictionary of tokens of recipes and a optional allign token labels\n",
    "\n",
    "    \"\"\"\n",
    "    \n",
    "    tokens = tokenizer(reciepe, truncation = True, is_split_into_words = True, max_length = 128)\n",
    "    aligned_tokens_entities = []\n",
    "\n",
    "    for reciepe_id in range(len(reciepe)):\n",
    "        if not labels: break\n",
    "        word_ids = tokens.word_ids(reciepe_id)\n",
    "        prev_id = None\n",
    "        curr_entities = []\n",
    "        for idx in word_ids:\n",
    "\n",
    "            if idx!= prev_id:\n",
    "                curr_entities.append(-100 if idx == None else label_ids[\"B-\"+labels[reciepe_id][idx]])\n",
    "            elif idx == None:\n",
    "                curr_entities.append(-100)\n",
    "            else:\n",
    "                curr_entities.append(-100 if only_first_token else label_ids[\"I-\"+labels[reciepe_id][idx]])\n",
    "            prev_id = idx\n",
    "        aligned_tokens_entities.append(curr_entities)\n",
    "    if labels:\n",
    "        tokens['labels']  = aligned_tokens_entities\n",
    "    tokens['recipes'] = reciepe\n",
    "    return tokens"
   ]
  },
  {
   "cell_type": "markdown",
   "id": "e92cdbc7",
   "metadata": {},
   "source": [
    "model building"
   ]
  },
  {
   "cell_type": "code",
   "execution_count": 5,
   "id": "18ae2ff2",
   "metadata": {},
   "outputs": [],
   "source": [
    "def check_if_entity_correctly_began(entity, prev_entity):\n",
    "    \"\"\"\n",
    "    This function checks if \"I-\" entity is preceded with \"B-\" or \"I-\". For\n",
    "    example, \"I-FOOD\" should not happen after \"O\" or after \"B-QUANT\".\n",
    "    :param entity:\n",
    "    :param prev_entity:\n",
    "    :return: bool\n",
    "    \"\"\"\n",
    "    if \"I-\" in entity and re.sub(r\"[BI]-\", \"\", entity) != \\\n",
    "            re.sub(r\"[BI]-\", \"\", prev_entity):\n",
    "        return False\n",
    "    return True\n",
    "\n",
    "\n",
    "def token_to_entity_predictions(text_split_words, text_split_tokens,\n",
    "                                token_labels, id2label):\n",
    "    \"\"\"\n",
    "    Transform token (subword) predictions into word predictions.\n",
    "    :param text_split_words: list of words from one recipe, eg. [\"I\", \"eat\",\n",
    "    \"chicken\"] (the ones that go to tokenizer)\n",
    "    :param text_split_tokens: list of tokens from one recipe, eg. [\"I\", \"eat\",\n",
    "    \"chic\", \"##ken\"] (the ones that arise\n",
    "    from input decoding)\n",
    "    :param token_labels: list of labels associated with each token from\n",
    "    text_split_tokens\n",
    "    :param id2label: a mapping from ids (0, 1, ...) to labels (\"B-FOOD\",\n",
    "    \"I-FOOD\", ...)\n",
    "    :return: a list of entities associated with each word from text_split_words,\n",
    "    ie. entities extracted from a recipe\n",
    "    \"\"\"\n",
    "\n",
    "    word_idx = 0\n",
    "    word_entities = []\n",
    "    word_from_tokens = \"\"\n",
    "    word_entity = \"\"\n",
    "    prev_word_entity = \"\"\n",
    "\n",
    "    for token_label, token in zip(token_labels, text_split_tokens):\n",
    "        if token in [\"[SEP]\", \"[CLS]\"]:\n",
    "            continue\n",
    "        word_from_tokens += re.sub(r\"^##\", \"\", token)\n",
    "        # take the entity associated with the first token (subword)\n",
    "        word_entity = id2label[token_label] if word_entity == \"\" \\\n",
    "            else word_entity\n",
    "\n",
    "        if word_from_tokens == text_split_words[word_idx] or\\\n",
    "                word_from_tokens == \"[UNK]\":\n",
    "            word_idx += 1\n",
    "            # replace entities containing \"I-\" that do not have a predecessor\n",
    "            # with \"B-\"\n",
    "            word_entity = \"O\" if not \\\n",
    "                check_if_entity_correctly_began(word_entity, prev_word_entity) \\\n",
    "                else word_entity\n",
    "            word_entities.append(word_entity)\n",
    "            word_from_tokens = \"\"\n",
    "            prev_word_entity = word_entity\n",
    "            word_entity = \"\"\n",
    "\n",
    "    return word_entities"
   ]
  },
  {
   "cell_type": "code",
   "execution_count": 6,
   "id": "705d6a43",
   "metadata": {
    "notebookRunGroups": {
     "groupValue": ""
    }
   },
   "outputs": [],
   "source": [
    "class TastyModel():\n",
    "    def __init__(self, config):\n",
    "        self.config = config\n",
    "        self.tokenizer = AutoTokenizer.from_pretrained(self.config['bert_type'])\n",
    "        self.id2label = {v:k for k,v in CONFIG['label2id'].items()}\n",
    "        self.label2id = self.config['label2id']\n",
    "\n",
    "        model = BertForTokenClassification.from_pretrained(self.config['bert_type'],\n",
    "            num_labels=len(self.config[\"label2id\"]),\n",
    "            label2id=self.label2id,\n",
    "            id2label=self.id2label,\n",
    "            classifier_dropout=0.2\n",
    "        )\n",
    "        training_args = TrainingArguments(**self.config['training_args'])\n",
    "\n",
    "        self.trainer = Trainer(\n",
    "            model=model,\n",
    "            args=training_args,\n",
    "            tokenizer=self.tokenizer,\n",
    "            data_collator=DataCollatorForTokenClassification(\n",
    "                tokenizer=self.tokenizer, max_length= self.config['max_length'],padding= 'max_length')\n",
    "                )\n",
    "    def train(self, train_reciepe, train_entities):\n",
    "\n",
    "        _, train_dataset = self.prepare_data(train_reciepe, train_entities)\n",
    "\n",
    "        self.trainer.train_dataset = train_dataset\n",
    "\n",
    "        self.trainer.train()\n",
    "    \n",
    "    def evaluate(self, eval_reciepe, eval_entities):\n",
    "        \n",
    "        eval_preditions = self.predict(eval_reciepe)\n",
    "        results = evaluate_predictions(eval_entities,eval_preditions)\n",
    "        return results\n",
    "        \n",
    "\n",
    "    def predict(self, recipes):\n",
    "\n",
    "        predicted_entities = []\n",
    "\n",
    "        data, dataset = self.prepare_data(recipes,[])\n",
    "\n",
    "        preds = self.trainer.predict(dataset)\n",
    "\n",
    "        token_probs = preds[0]\n",
    "\n",
    "        token_labels = token_probs.argmax(axis=2)\n",
    "\n",
    "        num_of_recipes = dataset.num_rows\n",
    "\n",
    "        for recipe_idx in range(num_of_recipes):\n",
    "            text_split_words = recipes[recipe_idx]\n",
    "            text_split_tokens = self.tokenizer.convert_ids_to_tokens(\n",
    "                data[\"input_ids\"][recipe_idx])\n",
    "            word_entities = token_to_entity_predictions(\n",
    "                    text_split_words,\n",
    "                    text_split_tokens,\n",
    "                    token_labels[recipe_idx],\n",
    "                    self.id2label\n",
    "                )\n",
    "            predicted_entities.append(word_entities)\n",
    "        \n",
    "        return predicted_entities\n",
    "            \n",
    "\n",
    "\n",
    "        \n",
    "    def prepare_data(self, reciepe, labels):\n",
    "        data = tokenize_and_allign(reciepe = reciepe, labels = labels, tokenizer = self.tokenizer, label_ids = self.config['label2id'], \n",
    "                                   only_first_token= self.config['only_first_token'])\n",
    "        \n",
    "        dataset = Dataset.from_dict(data) ## give the dataset in shape of(700,4) 700 rows and 4 columns are [input_ids, attention_mask, entites, reciepes]\n",
    "        \n",
    "        return data, dataset"
   ]
  },
  {
   "cell_type": "code",
   "execution_count": 7,
   "id": "3bec49f9",
   "metadata": {},
   "outputs": [],
   "source": [
    "def cross_validate(no_of_folds,seed):\n",
    "\n",
    "    CONFIG[\"training_args\"][\"seed\"] = seed\n",
    "\n",
    "    bio_recipes, bio_entities = df.entities.tolist(), df.NER_tags.tolist()\n",
    "\n",
    "    kf = KFold(n_splits = no_of_folds, shuffle=True)\n",
    "    cross_val_results = {}\n",
    "\n",
    "    for fold_id, (train_index, test_index) in enumerate(kf.split(bio_entities)):\n",
    "        tr_recipes, vl_recipes = [bio_recipes[idx] for idx in train_index], \\\n",
    "                                 [bio_recipes[idx] for idx in test_index]\n",
    "        tr_entities, vl_entities = [bio_entities[idx] for idx in train_index], \\\n",
    "                                   [bio_entities[idx] for idx in test_index]\n",
    "\n",
    "        model = TastyModel(CONFIG)\n",
    "        model.train(tr_recipes, tr_entities)\n",
    "        results = model.evaluate(vl_recipes, vl_entities)\n",
    "        print(results)\n",
    "        cross_val_results[fold_id] = results\n",
    "\n",
    "    with open(\"bert_cross_val_results.json\", \"w\") as json_file:\n",
    "        json.dump(cross_val_results, json_file, indent=4)\n",
    "\n",
    "    # aggregate and print results\n",
    "    cross_val_results_aggregated = {\n",
    "        entity: {\"precision\": [], \"recall\": [], \"f1\": []} for entity in\n",
    "        ENTITIES + [\"all\"]\n",
    "    }\n",
    "\n",
    "    print(f\"{'entity':^20s}{'precision':^15s}{'recall':^15s}{'f1-score':^15s}\")\n",
    "    for entity in cross_val_results_aggregated.keys():\n",
    "        print(f\"{entity:^20s}\", end=\"\")\n",
    "        for metric in cross_val_results_aggregated[entity].keys():\n",
    "            for fold_id in range(no_of_folds):\n",
    "                cross_val_results_aggregated[entity][metric].append(\n",
    "                    cross_val_results[fold_id][entity][metric]\n",
    "                )\n",
    "\n",
    "            mean = np.mean(cross_val_results_aggregated[entity][metric])\n",
    "            mean = int(mean * 1000) / 1000\n",
    "            std = np.std(cross_val_results_aggregated[entity][metric])\n",
    "            std = int(std * 1000) / 1000 + 0.001 * \\\n",
    "                  round(std - int(std * 1000) / 1000)\n",
    "            print(f\"{mean:^2.3f} +- {std:^2.3f} \", end=\"\")\n",
    "        print()"
   ]
  },
  {
   "cell_type": "code",
   "execution_count": 8,
   "id": "507e94ac",
   "metadata": {},
   "outputs": [
    {
     "name": "stdout",
     "output_type": "stream",
     "text": [
      "df\n"
     ]
    }
   ],
   "source": [
    "r = [5]\n",
    "if r:\n",
    "    print('df')"
   ]
  },
  {
   "cell_type": "code",
   "execution_count": 9,
   "id": "ad46465e",
   "metadata": {},
   "outputs": [
    {
     "name": "stderr",
     "output_type": "stream",
     "text": [
      "You are using a model of type distilbert to instantiate a model of type bert. This is not supported for all configurations of models and can yield errors.\n",
      "Some weights of the model checkpoint at distilbert-base-cased were not used when initializing BertForTokenClassification: ['distilbert.embeddings.LayerNorm.bias', 'distilbert.transformer.layer.4.output_layer_norm.weight', 'distilbert.transformer.layer.4.ffn.lin1.bias', 'vocab_transform.weight', 'distilbert.transformer.layer.4.attention.out_lin.weight', 'distilbert.transformer.layer.0.attention.v_lin.bias', 'distilbert.transformer.layer.0.ffn.lin2.weight', 'vocab_layer_norm.bias', 'distilbert.transformer.layer.5.attention.v_lin.bias', 'distilbert.transformer.layer.2.ffn.lin2.weight', 'distilbert.transformer.layer.5.attention.out_lin.weight', 'distilbert.transformer.layer.5.sa_layer_norm.weight', 'distilbert.transformer.layer.4.output_layer_norm.bias', 'distilbert.transformer.layer.3.ffn.lin1.bias', 'distilbert.transformer.layer.0.ffn.lin2.bias', 'distilbert.transformer.layer.0.attention.k_lin.weight', 'distilbert.transformer.layer.1.sa_layer_norm.bias', 'distilbert.transformer.layer.3.ffn.lin1.weight', 'distilbert.transformer.layer.3.sa_layer_norm.weight', 'distilbert.transformer.layer.5.attention.q_lin.weight', 'vocab_layer_norm.weight', 'distilbert.transformer.layer.4.sa_layer_norm.weight', 'distilbert.transformer.layer.5.attention.v_lin.weight', 'distilbert.transformer.layer.4.sa_layer_norm.bias', 'distilbert.transformer.layer.2.attention.q_lin.bias', 'distilbert.transformer.layer.1.ffn.lin1.weight', 'distilbert.transformer.layer.3.attention.q_lin.weight', 'distilbert.transformer.layer.2.ffn.lin1.bias', 'distilbert.transformer.layer.5.sa_layer_norm.bias', 'distilbert.transformer.layer.4.attention.k_lin.weight', 'distilbert.transformer.layer.1.output_layer_norm.bias', 'distilbert.transformer.layer.5.ffn.lin1.bias', 'distilbert.transformer.layer.5.ffn.lin1.weight', 'distilbert.transformer.layer.0.ffn.lin1.bias', 'distilbert.transformer.layer.2.output_layer_norm.weight', 'distilbert.transformer.layer.4.ffn.lin2.bias', 'distilbert.transformer.layer.0.attention.q_lin.bias', 'distilbert.transformer.layer.5.output_layer_norm.bias', 'distilbert.transformer.layer.1.attention.q_lin.bias', 'distilbert.transformer.layer.4.attention.v_lin.weight', 'distilbert.transformer.layer.1.output_layer_norm.weight', 'distilbert.transformer.layer.1.attention.out_lin.weight', 'distilbert.transformer.layer.3.ffn.lin2.weight', 'distilbert.transformer.layer.3.output_layer_norm.bias', 'distilbert.transformer.layer.1.attention.k_lin.bias', 'distilbert.transformer.layer.4.ffn.lin2.weight', 'distilbert.transformer.layer.2.attention.v_lin.bias', 'distilbert.transformer.layer.0.output_layer_norm.weight', 'distilbert.embeddings.LayerNorm.weight', 'distilbert.transformer.layer.3.attention.out_lin.bias', 'distilbert.transformer.layer.5.attention.k_lin.bias', 'distilbert.transformer.layer.3.attention.k_lin.weight', 'distilbert.transformer.layer.4.attention.k_lin.bias', 'distilbert.transformer.layer.5.attention.k_lin.weight', 'distilbert.transformer.layer.1.attention.out_lin.bias', 'vocab_projector.weight', 'distilbert.transformer.layer.1.ffn.lin2.bias', 'distilbert.transformer.layer.0.attention.k_lin.bias', 'distilbert.transformer.layer.3.attention.q_lin.bias', 'distilbert.transformer.layer.0.sa_layer_norm.bias', 'distilbert.transformer.layer.3.attention.v_lin.weight', 'distilbert.transformer.layer.4.ffn.lin1.weight', 'distilbert.transformer.layer.0.output_layer_norm.bias', 'distilbert.transformer.layer.5.attention.out_lin.bias', 'distilbert.transformer.layer.0.attention.q_lin.weight', 'distilbert.transformer.layer.1.attention.v_lin.bias', 'distilbert.transformer.layer.2.sa_layer_norm.weight', 'distilbert.transformer.layer.3.attention.out_lin.weight', 'distilbert.transformer.layer.2.attention.v_lin.weight', 'distilbert.transformer.layer.2.ffn.lin1.weight', 'distilbert.transformer.layer.1.attention.k_lin.weight', 'distilbert.transformer.layer.2.output_layer_norm.bias', 'distilbert.embeddings.position_embeddings.weight', 'distilbert.transformer.layer.1.ffn.lin2.weight', 'distilbert.transformer.layer.2.attention.q_lin.weight', 'distilbert.transformer.layer.0.attention.out_lin.bias', 'distilbert.transformer.layer.4.attention.q_lin.weight', 'distilbert.transformer.layer.4.attention.q_lin.bias', 'distilbert.embeddings.word_embeddings.weight', 'vocab_projector.bias', 'distilbert.transformer.layer.3.ffn.lin2.bias', 'distilbert.transformer.layer.2.attention.out_lin.weight', 'distilbert.transformer.layer.1.ffn.lin1.bias', 'distilbert.transformer.layer.4.attention.out_lin.bias', 'distilbert.transformer.layer.4.attention.v_lin.bias', 'distilbert.transformer.layer.0.attention.out_lin.weight', 'distilbert.transformer.layer.3.attention.k_lin.bias', 'vocab_transform.bias', 'distilbert.transformer.layer.1.attention.v_lin.weight', 'distilbert.transformer.layer.2.attention.k_lin.bias', 'distilbert.transformer.layer.2.attention.out_lin.bias', 'distilbert.transformer.layer.1.attention.q_lin.weight', 'distilbert.transformer.layer.3.sa_layer_norm.bias', 'distilbert.transformer.layer.0.attention.v_lin.weight', 'distilbert.transformer.layer.1.sa_layer_norm.weight', 'distilbert.transformer.layer.0.sa_layer_norm.weight', 'distilbert.transformer.layer.3.attention.v_lin.bias', 'distilbert.transformer.layer.3.output_layer_norm.weight', 'distilbert.transformer.layer.5.ffn.lin2.bias', 'distilbert.transformer.layer.5.ffn.lin2.weight', 'distilbert.transformer.layer.0.ffn.lin1.weight', 'distilbert.transformer.layer.2.sa_layer_norm.bias', 'distilbert.transformer.layer.5.attention.q_lin.bias', 'distilbert.transformer.layer.2.attention.k_lin.weight', 'distilbert.transformer.layer.5.output_layer_norm.weight', 'distilbert.transformer.layer.2.ffn.lin2.bias']\n",
      "- This IS expected if you are initializing BertForTokenClassification from the checkpoint of a model trained on another task or with another architecture (e.g. initializing a BertForSequenceClassification model from a BertForPreTraining model).\n",
      "- This IS NOT expected if you are initializing BertForTokenClassification from the checkpoint of a model that you expect to be exactly identical (initializing a BertForSequenceClassification model from a BertForSequenceClassification model).\n",
      "Some weights of BertForTokenClassification were not initialized from the model checkpoint at distilbert-base-cased and are newly initialized: ['encoder.layer.9.attention.self.query.weight', 'encoder.layer.5.output.dense.bias', 'encoder.layer.10.output.dense.weight', 'encoder.layer.8.attention.self.query.bias', 'encoder.layer.2.attention.self.query.weight', 'encoder.layer.3.output.LayerNorm.bias', 'encoder.layer.0.intermediate.dense.bias', 'encoder.layer.6.attention.self.value.weight', 'encoder.layer.5.attention.self.value.bias', 'encoder.layer.10.attention.self.query.weight', 'encoder.layer.11.output.dense.weight', 'encoder.layer.1.attention.self.key.bias', 'encoder.layer.2.output.dense.weight', 'encoder.layer.4.output.LayerNorm.bias', 'encoder.layer.3.attention.output.LayerNorm.weight', 'embeddings.token_type_embeddings.weight', 'encoder.layer.3.intermediate.dense.weight', 'encoder.layer.4.attention.output.LayerNorm.weight', 'encoder.layer.10.attention.output.LayerNorm.bias', 'encoder.layer.0.intermediate.dense.weight', 'encoder.layer.8.attention.output.dense.weight', 'encoder.layer.10.attention.self.key.bias', 'encoder.layer.7.intermediate.dense.weight', 'encoder.layer.9.intermediate.dense.weight', 'encoder.layer.7.attention.output.LayerNorm.weight', 'encoder.layer.9.attention.self.key.weight', 'encoder.layer.1.intermediate.dense.weight', 'encoder.layer.3.output.LayerNorm.weight', 'encoder.layer.6.attention.self.query.weight', 'encoder.layer.10.attention.output.LayerNorm.weight', 'encoder.layer.5.intermediate.dense.bias', 'encoder.layer.1.attention.output.LayerNorm.bias', 'encoder.layer.2.attention.self.key.bias', 'encoder.layer.10.output.LayerNorm.bias', 'encoder.layer.0.attention.self.key.weight', 'encoder.layer.0.attention.self.value.weight', 'encoder.layer.9.attention.self.key.bias', 'encoder.layer.11.attention.output.LayerNorm.bias', 'embeddings.LayerNorm.bias', 'encoder.layer.5.attention.self.key.bias', 'encoder.layer.7.output.dense.weight', 'encoder.layer.2.attention.self.query.bias', 'encoder.layer.10.attention.self.value.bias', 'encoder.layer.11.attention.self.query.bias', 'encoder.layer.6.attention.self.query.bias', 'encoder.layer.10.attention.self.key.weight', 'encoder.layer.11.output.LayerNorm.bias', 'encoder.layer.3.attention.output.LayerNorm.bias', 'encoder.layer.7.output.LayerNorm.weight', 'embeddings.position_embeddings.weight', 'encoder.layer.6.output.dense.bias', 'encoder.layer.9.output.LayerNorm.weight', 'encoder.layer.6.output.LayerNorm.bias', 'encoder.layer.8.intermediate.dense.bias', 'encoder.layer.6.intermediate.dense.bias', 'encoder.layer.8.output.dense.weight', 'encoder.layer.5.output.dense.weight', 'encoder.layer.0.attention.self.query.weight', 'encoder.layer.7.intermediate.dense.bias', 'encoder.layer.8.attention.self.value.bias', 'encoder.layer.3.attention.self.value.weight', 'encoder.layer.10.intermediate.dense.bias', 'encoder.layer.8.output.dense.bias', 'encoder.layer.10.attention.output.dense.bias', 'encoder.layer.2.intermediate.dense.bias', 'encoder.layer.2.output.LayerNorm.weight', 'encoder.layer.0.output.dense.weight', 'encoder.layer.2.attention.output.dense.bias', 'encoder.layer.5.output.LayerNorm.bias', 'encoder.layer.9.output.dense.bias', 'encoder.layer.6.output.dense.weight', 'encoder.layer.10.attention.output.dense.weight', 'encoder.layer.7.output.dense.bias', 'encoder.layer.0.attention.output.LayerNorm.weight', 'encoder.layer.5.intermediate.dense.weight', 'encoder.layer.4.attention.output.dense.weight', 'encoder.layer.4.attention.output.dense.bias', 'encoder.layer.6.output.LayerNorm.weight', 'encoder.layer.4.output.dense.weight', 'encoder.layer.7.attention.self.key.weight', 'encoder.layer.9.attention.self.query.bias', 'encoder.layer.1.output.dense.bias', 'encoder.layer.3.attention.self.value.bias', 'encoder.layer.7.attention.self.query.bias', 'encoder.layer.2.attention.self.key.weight', 'encoder.layer.11.attention.self.value.weight', 'encoder.layer.5.attention.self.query.bias', 'encoder.layer.8.attention.self.value.weight', 'encoder.layer.7.attention.self.query.weight', 'encoder.layer.5.output.LayerNorm.weight', 'encoder.layer.6.attention.output.dense.bias', 'encoder.layer.5.attention.output.LayerNorm.weight', 'encoder.layer.9.output.LayerNorm.bias', 'encoder.layer.6.attention.output.LayerNorm.bias', 'encoder.layer.1.attention.output.dense.weight', 'encoder.layer.6.attention.self.key.bias', 'encoder.layer.10.intermediate.dense.weight', 'encoder.layer.1.attention.self.query.weight', 'encoder.layer.4.attention.self.key.bias', 'encoder.layer.10.attention.self.query.bias', 'encoder.layer.6.attention.self.value.bias', 'encoder.layer.2.attention.output.LayerNorm.bias', 'encoder.layer.7.attention.output.LayerNorm.bias', 'encoder.layer.9.attention.output.LayerNorm.bias', 'encoder.layer.1.intermediate.dense.bias', 'encoder.layer.11.output.dense.bias', 'encoder.layer.8.output.LayerNorm.bias', 'encoder.layer.4.output.dense.bias', 'encoder.layer.3.output.dense.weight', 'encoder.layer.9.output.dense.weight', 'encoder.layer.11.output.LayerNorm.weight', 'encoder.layer.11.intermediate.dense.weight', 'encoder.layer.11.attention.output.dense.weight', 'encoder.layer.6.attention.output.LayerNorm.weight', 'encoder.layer.0.output.LayerNorm.weight', 'encoder.layer.1.output.LayerNorm.bias', 'encoder.layer.1.attention.self.key.weight', 'encoder.layer.11.attention.self.query.weight', 'encoder.layer.10.output.LayerNorm.weight', 'encoder.layer.11.attention.self.value.bias', 'encoder.layer.0.output.LayerNorm.bias', 'encoder.layer.5.attention.self.key.weight', 'encoder.layer.6.intermediate.dense.weight', 'encoder.layer.4.output.LayerNorm.weight', 'encoder.layer.8.attention.self.key.weight', 'encoder.layer.1.attention.self.query.bias', 'encoder.layer.2.intermediate.dense.weight', 'encoder.layer.5.attention.output.dense.bias', 'encoder.layer.2.output.LayerNorm.bias', 'encoder.layer.2.attention.self.value.weight', 'encoder.layer.4.attention.self.value.bias', 'encoder.layer.9.attention.self.value.bias', 'encoder.layer.3.attention.self.key.bias', 'encoder.layer.5.attention.output.dense.weight', 'encoder.layer.5.attention.output.LayerNorm.bias', 'encoder.layer.0.attention.self.key.bias', 'encoder.layer.2.attention.self.value.bias', 'classifier.bias', 'encoder.layer.3.attention.output.dense.bias', 'encoder.layer.0.attention.output.dense.weight', 'encoder.layer.8.attention.output.LayerNorm.weight', 'encoder.layer.3.output.dense.bias', 'encoder.layer.3.attention.self.key.weight', 'encoder.layer.0.attention.self.query.bias', 'encoder.layer.0.output.dense.bias', 'encoder.layer.8.output.LayerNorm.weight', 'encoder.layer.4.attention.self.query.weight', 'encoder.layer.6.attention.self.key.weight', 'encoder.layer.7.attention.self.value.bias', 'encoder.layer.9.intermediate.dense.bias', 'encoder.layer.7.output.LayerNorm.bias', 'encoder.layer.2.attention.output.LayerNorm.weight', 'encoder.layer.11.attention.output.LayerNorm.weight', 'encoder.layer.5.attention.self.query.weight', 'encoder.layer.6.attention.output.dense.weight', 'encoder.layer.9.attention.self.value.weight', 'encoder.layer.4.intermediate.dense.bias', 'encoder.layer.3.intermediate.dense.bias', 'encoder.layer.1.attention.self.value.weight', 'encoder.layer.1.output.LayerNorm.weight', 'encoder.layer.0.attention.output.LayerNorm.bias', 'embeddings.word_embeddings.weight', 'encoder.layer.1.attention.self.value.bias', 'encoder.layer.2.attention.output.dense.weight', 'encoder.layer.7.attention.output.dense.bias', 'encoder.layer.7.attention.self.value.weight', 'classifier.weight', 'encoder.layer.1.output.dense.weight', 'encoder.layer.4.attention.output.LayerNorm.bias', 'encoder.layer.5.attention.self.value.weight', 'encoder.layer.3.attention.output.dense.weight', 'encoder.layer.7.attention.output.dense.weight', 'encoder.layer.1.attention.output.dense.bias', 'encoder.layer.4.intermediate.dense.weight', 'encoder.layer.11.attention.self.key.weight', 'encoder.layer.9.attention.output.LayerNorm.weight', 'encoder.layer.9.attention.output.dense.bias', 'encoder.layer.10.output.dense.bias', 'encoder.layer.4.attention.self.key.weight', 'encoder.layer.0.attention.output.dense.bias', 'encoder.layer.11.intermediate.dense.bias', 'encoder.layer.11.attention.output.dense.bias', 'encoder.layer.1.attention.output.LayerNorm.weight', 'embeddings.LayerNorm.weight', 'encoder.layer.8.attention.output.LayerNorm.bias', 'encoder.layer.8.intermediate.dense.weight', 'encoder.layer.0.attention.self.value.bias', 'encoder.layer.3.attention.self.query.weight', 'encoder.layer.2.output.dense.bias', 'encoder.layer.9.attention.output.dense.weight', 'encoder.layer.7.attention.self.key.bias', 'encoder.layer.8.attention.self.key.bias', 'encoder.layer.4.attention.self.value.weight', 'encoder.layer.3.attention.self.query.bias', 'encoder.layer.4.attention.self.query.bias', 'encoder.layer.11.attention.self.key.bias', 'encoder.layer.8.attention.output.dense.bias', 'encoder.layer.10.attention.self.value.weight', 'encoder.layer.8.attention.self.query.weight']\n",
      "You should probably TRAIN this model on a down-stream task to be able to use it for predictions and inference.\n",
      "/DATA/elidandi_2211ai08/anaconda3/lib/python3.11/site-packages/transformers/optimization.py:407: FutureWarning: This implementation of AdamW is deprecated and will be removed in a future version. Use the PyTorch implementation torch.optim.AdamW instead, or set `no_deprecation_warning=True` to disable this warning\n",
      "  warnings.warn(\n",
      "You're using a DistilBertTokenizerFast tokenizer. Please note that with a fast tokenizer, using the `__call__` method is faster than using a method to encode the text followed by a call to the `pad` method to get a padded encoding.\n"
     ]
    },
    {
     "data": {
      "text/html": [
       "\n",
       "    <div>\n",
       "      \n",
       "      <progress value='5' max='900' style='width:300px; height:20px; vertical-align: middle;'></progress>\n",
       "      [  5/900 00:09 < 47:20, 0.32 it/s, Epoch 0.13/30]\n",
       "    </div>\n",
       "    <table border=\"1\" class=\"dataframe\">\n",
       "  <thead>\n",
       " <tr style=\"text-align: left;\">\n",
       "      <th>Step</th>\n",
       "      <th>Training Loss</th>\n",
       "    </tr>\n",
       "  </thead>\n",
       "  <tbody>\n",
       "  </tbody>\n",
       "</table><p>"
      ],
      "text/plain": [
       "<IPython.core.display.HTML object>"
      ]
     },
     "metadata": {},
     "output_type": "display_data"
    },
    {
     "ename": "KeyboardInterrupt",
     "evalue": "",
     "output_type": "error",
     "traceback": [
      "\u001b[0;31m---------------------------------------------------------------------------\u001b[0m",
      "\u001b[0;31mKeyboardInterrupt\u001b[0m                         Traceback (most recent call last)",
      "\u001b[1;32m/DATA/elidandi_2211ai08/CookBert/model.ipynb Cell 11\u001b[0m line \u001b[0;36m2\n\u001b[1;32m      <a href='vscode-notebook-cell://ssh-remote%2B10.12.10.71/DATA/elidandi_2211ai08/CookBert/model.ipynb#X13sdnNjb2RlLXJlbW90ZQ%3D%3D?line=0'>1</a>\u001b[0m \u001b[39mif\u001b[39;00m \u001b[39m__name__\u001b[39m \u001b[39m==\u001b[39m \u001b[39m\"\u001b[39m\u001b[39m__main__\u001b[39m\u001b[39m\"\u001b[39m:\n\u001b[0;32m----> <a href='vscode-notebook-cell://ssh-remote%2B10.12.10.71/DATA/elidandi_2211ai08/CookBert/model.ipynb#X13sdnNjb2RlLXJlbW90ZQ%3D%3D?line=1'>2</a>\u001b[0m     cross_validate(\u001b[39m3\u001b[39m,\u001b[39m42\u001b[39m)\n",
      "\u001b[1;32m/DATA/elidandi_2211ai08/CookBert/model.ipynb Cell 11\u001b[0m line \u001b[0;36m1\n\u001b[1;32m     <a href='vscode-notebook-cell://ssh-remote%2B10.12.10.71/DATA/elidandi_2211ai08/CookBert/model.ipynb#X13sdnNjb2RlLXJlbW90ZQ%3D%3D?line=12'>13</a>\u001b[0m tr_entities, vl_entities \u001b[39m=\u001b[39m [bio_entities[idx] \u001b[39mfor\u001b[39;00m idx \u001b[39min\u001b[39;00m train_index], \\\n\u001b[1;32m     <a href='vscode-notebook-cell://ssh-remote%2B10.12.10.71/DATA/elidandi_2211ai08/CookBert/model.ipynb#X13sdnNjb2RlLXJlbW90ZQ%3D%3D?line=13'>14</a>\u001b[0m                            [bio_entities[idx] \u001b[39mfor\u001b[39;00m idx \u001b[39min\u001b[39;00m test_index]\n\u001b[1;32m     <a href='vscode-notebook-cell://ssh-remote%2B10.12.10.71/DATA/elidandi_2211ai08/CookBert/model.ipynb#X13sdnNjb2RlLXJlbW90ZQ%3D%3D?line=15'>16</a>\u001b[0m model \u001b[39m=\u001b[39m TastyModel(CONFIG)\n\u001b[0;32m---> <a href='vscode-notebook-cell://ssh-remote%2B10.12.10.71/DATA/elidandi_2211ai08/CookBert/model.ipynb#X13sdnNjb2RlLXJlbW90ZQ%3D%3D?line=16'>17</a>\u001b[0m model\u001b[39m.\u001b[39mtrain(tr_recipes, tr_entities)\n\u001b[1;32m     <a href='vscode-notebook-cell://ssh-remote%2B10.12.10.71/DATA/elidandi_2211ai08/CookBert/model.ipynb#X13sdnNjb2RlLXJlbW90ZQ%3D%3D?line=17'>18</a>\u001b[0m results \u001b[39m=\u001b[39m model\u001b[39m.\u001b[39mevaluate(vl_recipes, vl_entities)\n\u001b[1;32m     <a href='vscode-notebook-cell://ssh-remote%2B10.12.10.71/DATA/elidandi_2211ai08/CookBert/model.ipynb#X13sdnNjb2RlLXJlbW90ZQ%3D%3D?line=18'>19</a>\u001b[0m \u001b[39mprint\u001b[39m(results)\n",
      "\u001b[1;32m/DATA/elidandi_2211ai08/CookBert/model.ipynb Cell 11\u001b[0m line \u001b[0;36m2\n\u001b[1;32m     <a href='vscode-notebook-cell://ssh-remote%2B10.12.10.71/DATA/elidandi_2211ai08/CookBert/model.ipynb#X13sdnNjb2RlLXJlbW90ZQ%3D%3D?line=24'>25</a>\u001b[0m _, train_dataset \u001b[39m=\u001b[39m \u001b[39mself\u001b[39m\u001b[39m.\u001b[39mprepare_data(train_reciepe, train_entities)\n\u001b[1;32m     <a href='vscode-notebook-cell://ssh-remote%2B10.12.10.71/DATA/elidandi_2211ai08/CookBert/model.ipynb#X13sdnNjb2RlLXJlbW90ZQ%3D%3D?line=26'>27</a>\u001b[0m \u001b[39mself\u001b[39m\u001b[39m.\u001b[39mtrainer\u001b[39m.\u001b[39mtrain_dataset \u001b[39m=\u001b[39m train_dataset\n\u001b[0;32m---> <a href='vscode-notebook-cell://ssh-remote%2B10.12.10.71/DATA/elidandi_2211ai08/CookBert/model.ipynb#X13sdnNjb2RlLXJlbW90ZQ%3D%3D?line=28'>29</a>\u001b[0m \u001b[39mself\u001b[39m\u001b[39m.\u001b[39mtrainer\u001b[39m.\u001b[39mtrain()\n",
      "File \u001b[0;32m~/anaconda3/lib/python3.11/site-packages/transformers/trainer.py:1664\u001b[0m, in \u001b[0;36mTrainer.train\u001b[0;34m(self, resume_from_checkpoint, trial, ignore_keys_for_eval, **kwargs)\u001b[0m\n\u001b[1;32m   1659\u001b[0m     \u001b[39mself\u001b[39m\u001b[39m.\u001b[39mmodel_wrapped \u001b[39m=\u001b[39m \u001b[39mself\u001b[39m\u001b[39m.\u001b[39mmodel\n\u001b[1;32m   1661\u001b[0m inner_training_loop \u001b[39m=\u001b[39m find_executable_batch_size(\n\u001b[1;32m   1662\u001b[0m     \u001b[39mself\u001b[39m\u001b[39m.\u001b[39m_inner_training_loop, \u001b[39mself\u001b[39m\u001b[39m.\u001b[39m_train_batch_size, args\u001b[39m.\u001b[39mauto_find_batch_size\n\u001b[1;32m   1663\u001b[0m )\n\u001b[0;32m-> 1664\u001b[0m \u001b[39mreturn\u001b[39;00m inner_training_loop(\n\u001b[1;32m   1665\u001b[0m     args\u001b[39m=\u001b[39margs,\n\u001b[1;32m   1666\u001b[0m     resume_from_checkpoint\u001b[39m=\u001b[39mresume_from_checkpoint,\n\u001b[1;32m   1667\u001b[0m     trial\u001b[39m=\u001b[39mtrial,\n\u001b[1;32m   1668\u001b[0m     ignore_keys_for_eval\u001b[39m=\u001b[39mignore_keys_for_eval,\n\u001b[1;32m   1669\u001b[0m )\n",
      "File \u001b[0;32m~/anaconda3/lib/python3.11/site-packages/transformers/trainer.py:1940\u001b[0m, in \u001b[0;36mTrainer._inner_training_loop\u001b[0;34m(self, batch_size, args, resume_from_checkpoint, trial, ignore_keys_for_eval)\u001b[0m\n\u001b[1;32m   1938\u001b[0m         tr_loss_step \u001b[39m=\u001b[39m \u001b[39mself\u001b[39m\u001b[39m.\u001b[39mtraining_step(model, inputs)\n\u001b[1;32m   1939\u001b[0m \u001b[39melse\u001b[39;00m:\n\u001b[0;32m-> 1940\u001b[0m     tr_loss_step \u001b[39m=\u001b[39m \u001b[39mself\u001b[39m\u001b[39m.\u001b[39mtraining_step(model, inputs)\n\u001b[1;32m   1942\u001b[0m \u001b[39mif\u001b[39;00m (\n\u001b[1;32m   1943\u001b[0m     args\u001b[39m.\u001b[39mlogging_nan_inf_filter\n\u001b[1;32m   1944\u001b[0m     \u001b[39mand\u001b[39;00m \u001b[39mnot\u001b[39;00m is_torch_tpu_available()\n\u001b[1;32m   1945\u001b[0m     \u001b[39mand\u001b[39;00m (torch\u001b[39m.\u001b[39misnan(tr_loss_step) \u001b[39mor\u001b[39;00m torch\u001b[39m.\u001b[39misinf(tr_loss_step))\n\u001b[1;32m   1946\u001b[0m ):\n\u001b[1;32m   1947\u001b[0m     \u001b[39m# if loss is nan or inf simply add the average of previous logged losses\u001b[39;00m\n\u001b[1;32m   1948\u001b[0m     tr_loss \u001b[39m+\u001b[39m\u001b[39m=\u001b[39m tr_loss \u001b[39m/\u001b[39m (\u001b[39m1\u001b[39m \u001b[39m+\u001b[39m \u001b[39mself\u001b[39m\u001b[39m.\u001b[39mstate\u001b[39m.\u001b[39mglobal_step \u001b[39m-\u001b[39m \u001b[39mself\u001b[39m\u001b[39m.\u001b[39m_globalstep_last_logged)\n",
      "File \u001b[0;32m~/anaconda3/lib/python3.11/site-packages/transformers/trainer.py:2735\u001b[0m, in \u001b[0;36mTrainer.training_step\u001b[0;34m(self, model, inputs)\u001b[0m\n\u001b[1;32m   2732\u001b[0m     \u001b[39mreturn\u001b[39;00m loss_mb\u001b[39m.\u001b[39mreduce_mean()\u001b[39m.\u001b[39mdetach()\u001b[39m.\u001b[39mto(\u001b[39mself\u001b[39m\u001b[39m.\u001b[39margs\u001b[39m.\u001b[39mdevice)\n\u001b[1;32m   2734\u001b[0m \u001b[39mwith\u001b[39;00m \u001b[39mself\u001b[39m\u001b[39m.\u001b[39mcompute_loss_context_manager():\n\u001b[0;32m-> 2735\u001b[0m     loss \u001b[39m=\u001b[39m \u001b[39mself\u001b[39m\u001b[39m.\u001b[39mcompute_loss(model, inputs)\n\u001b[1;32m   2737\u001b[0m \u001b[39mif\u001b[39;00m \u001b[39mself\u001b[39m\u001b[39m.\u001b[39margs\u001b[39m.\u001b[39mn_gpu \u001b[39m>\u001b[39m \u001b[39m1\u001b[39m:\n\u001b[1;32m   2738\u001b[0m     loss \u001b[39m=\u001b[39m loss\u001b[39m.\u001b[39mmean()  \u001b[39m# mean() to average on multi-gpu parallel training\u001b[39;00m\n",
      "File \u001b[0;32m~/anaconda3/lib/python3.11/site-packages/transformers/trainer.py:2767\u001b[0m, in \u001b[0;36mTrainer.compute_loss\u001b[0;34m(self, model, inputs, return_outputs)\u001b[0m\n\u001b[1;32m   2765\u001b[0m \u001b[39melse\u001b[39;00m:\n\u001b[1;32m   2766\u001b[0m     labels \u001b[39m=\u001b[39m \u001b[39mNone\u001b[39;00m\n\u001b[0;32m-> 2767\u001b[0m outputs \u001b[39m=\u001b[39m model(\u001b[39m*\u001b[39m\u001b[39m*\u001b[39minputs)\n\u001b[1;32m   2768\u001b[0m \u001b[39m# Save past state if it exists\u001b[39;00m\n\u001b[1;32m   2769\u001b[0m \u001b[39m# TODO: this needs to be fixed and made cleaner later.\u001b[39;00m\n\u001b[1;32m   2770\u001b[0m \u001b[39mif\u001b[39;00m \u001b[39mself\u001b[39m\u001b[39m.\u001b[39margs\u001b[39m.\u001b[39mpast_index \u001b[39m>\u001b[39m\u001b[39m=\u001b[39m \u001b[39m0\u001b[39m:\n",
      "File \u001b[0;32m~/anaconda3/lib/python3.11/site-packages/torch/nn/modules/module.py:1501\u001b[0m, in \u001b[0;36mModule._call_impl\u001b[0;34m(self, *args, **kwargs)\u001b[0m\n\u001b[1;32m   1496\u001b[0m \u001b[39m# If we don't have any hooks, we want to skip the rest of the logic in\u001b[39;00m\n\u001b[1;32m   1497\u001b[0m \u001b[39m# this function, and just call forward.\u001b[39;00m\n\u001b[1;32m   1498\u001b[0m \u001b[39mif\u001b[39;00m \u001b[39mnot\u001b[39;00m (\u001b[39mself\u001b[39m\u001b[39m.\u001b[39m_backward_hooks \u001b[39mor\u001b[39;00m \u001b[39mself\u001b[39m\u001b[39m.\u001b[39m_backward_pre_hooks \u001b[39mor\u001b[39;00m \u001b[39mself\u001b[39m\u001b[39m.\u001b[39m_forward_hooks \u001b[39mor\u001b[39;00m \u001b[39mself\u001b[39m\u001b[39m.\u001b[39m_forward_pre_hooks\n\u001b[1;32m   1499\u001b[0m         \u001b[39mor\u001b[39;00m _global_backward_pre_hooks \u001b[39mor\u001b[39;00m _global_backward_hooks\n\u001b[1;32m   1500\u001b[0m         \u001b[39mor\u001b[39;00m _global_forward_hooks \u001b[39mor\u001b[39;00m _global_forward_pre_hooks):\n\u001b[0;32m-> 1501\u001b[0m     \u001b[39mreturn\u001b[39;00m forward_call(\u001b[39m*\u001b[39margs, \u001b[39m*\u001b[39m\u001b[39m*\u001b[39mkwargs)\n\u001b[1;32m   1502\u001b[0m \u001b[39m# Do not call functions when jit is used\u001b[39;00m\n\u001b[1;32m   1503\u001b[0m full_backward_hooks, non_full_backward_hooks \u001b[39m=\u001b[39m [], []\n",
      "File \u001b[0;32m~/anaconda3/lib/python3.11/site-packages/transformers/models/bert/modeling_bert.py:1758\u001b[0m, in \u001b[0;36mBertForTokenClassification.forward\u001b[0;34m(self, input_ids, attention_mask, token_type_ids, position_ids, head_mask, inputs_embeds, labels, output_attentions, output_hidden_states, return_dict)\u001b[0m\n\u001b[1;32m   1752\u001b[0m \u001b[39m\u001b[39m\u001b[39mr\u001b[39m\u001b[39m\"\"\"\u001b[39;00m\n\u001b[1;32m   1753\u001b[0m \u001b[39mlabels (`torch.LongTensor` of shape `(batch_size, sequence_length)`, *optional*):\u001b[39;00m\n\u001b[1;32m   1754\u001b[0m \u001b[39m    Labels for computing the token classification loss. Indices should be in `[0, ..., config.num_labels - 1]`.\u001b[39;00m\n\u001b[1;32m   1755\u001b[0m \u001b[39m\"\"\"\u001b[39;00m\n\u001b[1;32m   1756\u001b[0m return_dict \u001b[39m=\u001b[39m return_dict \u001b[39mif\u001b[39;00m return_dict \u001b[39mis\u001b[39;00m \u001b[39mnot\u001b[39;00m \u001b[39mNone\u001b[39;00m \u001b[39melse\u001b[39;00m \u001b[39mself\u001b[39m\u001b[39m.\u001b[39mconfig\u001b[39m.\u001b[39muse_return_dict\n\u001b[0;32m-> 1758\u001b[0m outputs \u001b[39m=\u001b[39m \u001b[39mself\u001b[39m\u001b[39m.\u001b[39mbert(\n\u001b[1;32m   1759\u001b[0m     input_ids,\n\u001b[1;32m   1760\u001b[0m     attention_mask\u001b[39m=\u001b[39mattention_mask,\n\u001b[1;32m   1761\u001b[0m     token_type_ids\u001b[39m=\u001b[39mtoken_type_ids,\n\u001b[1;32m   1762\u001b[0m     position_ids\u001b[39m=\u001b[39mposition_ids,\n\u001b[1;32m   1763\u001b[0m     head_mask\u001b[39m=\u001b[39mhead_mask,\n\u001b[1;32m   1764\u001b[0m     inputs_embeds\u001b[39m=\u001b[39minputs_embeds,\n\u001b[1;32m   1765\u001b[0m     output_attentions\u001b[39m=\u001b[39moutput_attentions,\n\u001b[1;32m   1766\u001b[0m     output_hidden_states\u001b[39m=\u001b[39moutput_hidden_states,\n\u001b[1;32m   1767\u001b[0m     return_dict\u001b[39m=\u001b[39mreturn_dict,\n\u001b[1;32m   1768\u001b[0m )\n\u001b[1;32m   1770\u001b[0m sequence_output \u001b[39m=\u001b[39m outputs[\u001b[39m0\u001b[39m]\n\u001b[1;32m   1772\u001b[0m sequence_output \u001b[39m=\u001b[39m \u001b[39mself\u001b[39m\u001b[39m.\u001b[39mdropout(sequence_output)\n",
      "File \u001b[0;32m~/anaconda3/lib/python3.11/site-packages/torch/nn/modules/module.py:1501\u001b[0m, in \u001b[0;36mModule._call_impl\u001b[0;34m(self, *args, **kwargs)\u001b[0m\n\u001b[1;32m   1496\u001b[0m \u001b[39m# If we don't have any hooks, we want to skip the rest of the logic in\u001b[39;00m\n\u001b[1;32m   1497\u001b[0m \u001b[39m# this function, and just call forward.\u001b[39;00m\n\u001b[1;32m   1498\u001b[0m \u001b[39mif\u001b[39;00m \u001b[39mnot\u001b[39;00m (\u001b[39mself\u001b[39m\u001b[39m.\u001b[39m_backward_hooks \u001b[39mor\u001b[39;00m \u001b[39mself\u001b[39m\u001b[39m.\u001b[39m_backward_pre_hooks \u001b[39mor\u001b[39;00m \u001b[39mself\u001b[39m\u001b[39m.\u001b[39m_forward_hooks \u001b[39mor\u001b[39;00m \u001b[39mself\u001b[39m\u001b[39m.\u001b[39m_forward_pre_hooks\n\u001b[1;32m   1499\u001b[0m         \u001b[39mor\u001b[39;00m _global_backward_pre_hooks \u001b[39mor\u001b[39;00m _global_backward_hooks\n\u001b[1;32m   1500\u001b[0m         \u001b[39mor\u001b[39;00m _global_forward_hooks \u001b[39mor\u001b[39;00m _global_forward_pre_hooks):\n\u001b[0;32m-> 1501\u001b[0m     \u001b[39mreturn\u001b[39;00m forward_call(\u001b[39m*\u001b[39margs, \u001b[39m*\u001b[39m\u001b[39m*\u001b[39mkwargs)\n\u001b[1;32m   1502\u001b[0m \u001b[39m# Do not call functions when jit is used\u001b[39;00m\n\u001b[1;32m   1503\u001b[0m full_backward_hooks, non_full_backward_hooks \u001b[39m=\u001b[39m [], []\n",
      "File \u001b[0;32m~/anaconda3/lib/python3.11/site-packages/transformers/models/bert/modeling_bert.py:1013\u001b[0m, in \u001b[0;36mBertModel.forward\u001b[0;34m(self, input_ids, attention_mask, token_type_ids, position_ids, head_mask, inputs_embeds, encoder_hidden_states, encoder_attention_mask, past_key_values, use_cache, output_attentions, output_hidden_states, return_dict)\u001b[0m\n\u001b[1;32m   1006\u001b[0m \u001b[39m# Prepare head mask if needed\u001b[39;00m\n\u001b[1;32m   1007\u001b[0m \u001b[39m# 1.0 in head_mask indicate we keep the head\u001b[39;00m\n\u001b[1;32m   1008\u001b[0m \u001b[39m# attention_probs has shape bsz x n_heads x N x N\u001b[39;00m\n\u001b[1;32m   1009\u001b[0m \u001b[39m# input head_mask has shape [num_heads] or [num_hidden_layers x num_heads]\u001b[39;00m\n\u001b[1;32m   1010\u001b[0m \u001b[39m# and head_mask is converted to shape [num_hidden_layers x batch x num_heads x seq_length x seq_length]\u001b[39;00m\n\u001b[1;32m   1011\u001b[0m head_mask \u001b[39m=\u001b[39m \u001b[39mself\u001b[39m\u001b[39m.\u001b[39mget_head_mask(head_mask, \u001b[39mself\u001b[39m\u001b[39m.\u001b[39mconfig\u001b[39m.\u001b[39mnum_hidden_layers)\n\u001b[0;32m-> 1013\u001b[0m embedding_output \u001b[39m=\u001b[39m \u001b[39mself\u001b[39m\u001b[39m.\u001b[39membeddings(\n\u001b[1;32m   1014\u001b[0m     input_ids\u001b[39m=\u001b[39minput_ids,\n\u001b[1;32m   1015\u001b[0m     position_ids\u001b[39m=\u001b[39mposition_ids,\n\u001b[1;32m   1016\u001b[0m     token_type_ids\u001b[39m=\u001b[39mtoken_type_ids,\n\u001b[1;32m   1017\u001b[0m     inputs_embeds\u001b[39m=\u001b[39minputs_embeds,\n\u001b[1;32m   1018\u001b[0m     past_key_values_length\u001b[39m=\u001b[39mpast_key_values_length,\n\u001b[1;32m   1019\u001b[0m )\n\u001b[1;32m   1020\u001b[0m encoder_outputs \u001b[39m=\u001b[39m \u001b[39mself\u001b[39m\u001b[39m.\u001b[39mencoder(\n\u001b[1;32m   1021\u001b[0m     embedding_output,\n\u001b[1;32m   1022\u001b[0m     attention_mask\u001b[39m=\u001b[39mextended_attention_mask,\n\u001b[0;32m   (...)\u001b[0m\n\u001b[1;32m   1030\u001b[0m     return_dict\u001b[39m=\u001b[39mreturn_dict,\n\u001b[1;32m   1031\u001b[0m )\n\u001b[1;32m   1032\u001b[0m sequence_output \u001b[39m=\u001b[39m encoder_outputs[\u001b[39m0\u001b[39m]\n",
      "File \u001b[0;32m~/anaconda3/lib/python3.11/site-packages/torch/nn/modules/module.py:1501\u001b[0m, in \u001b[0;36mModule._call_impl\u001b[0;34m(self, *args, **kwargs)\u001b[0m\n\u001b[1;32m   1496\u001b[0m \u001b[39m# If we don't have any hooks, we want to skip the rest of the logic in\u001b[39;00m\n\u001b[1;32m   1497\u001b[0m \u001b[39m# this function, and just call forward.\u001b[39;00m\n\u001b[1;32m   1498\u001b[0m \u001b[39mif\u001b[39;00m \u001b[39mnot\u001b[39;00m (\u001b[39mself\u001b[39m\u001b[39m.\u001b[39m_backward_hooks \u001b[39mor\u001b[39;00m \u001b[39mself\u001b[39m\u001b[39m.\u001b[39m_backward_pre_hooks \u001b[39mor\u001b[39;00m \u001b[39mself\u001b[39m\u001b[39m.\u001b[39m_forward_hooks \u001b[39mor\u001b[39;00m \u001b[39mself\u001b[39m\u001b[39m.\u001b[39m_forward_pre_hooks\n\u001b[1;32m   1499\u001b[0m         \u001b[39mor\u001b[39;00m _global_backward_pre_hooks \u001b[39mor\u001b[39;00m _global_backward_hooks\n\u001b[1;32m   1500\u001b[0m         \u001b[39mor\u001b[39;00m _global_forward_hooks \u001b[39mor\u001b[39;00m _global_forward_pre_hooks):\n\u001b[0;32m-> 1501\u001b[0m     \u001b[39mreturn\u001b[39;00m forward_call(\u001b[39m*\u001b[39margs, \u001b[39m*\u001b[39m\u001b[39m*\u001b[39mkwargs)\n\u001b[1;32m   1502\u001b[0m \u001b[39m# Do not call functions when jit is used\u001b[39;00m\n\u001b[1;32m   1503\u001b[0m full_backward_hooks, non_full_backward_hooks \u001b[39m=\u001b[39m [], []\n",
      "File \u001b[0;32m~/anaconda3/lib/python3.11/site-packages/transformers/models/bert/modeling_bert.py:238\u001b[0m, in \u001b[0;36mBertEmbeddings.forward\u001b[0;34m(self, input_ids, token_type_ids, position_ids, inputs_embeds, past_key_values_length)\u001b[0m\n\u001b[1;32m    236\u001b[0m     embeddings \u001b[39m+\u001b[39m\u001b[39m=\u001b[39m position_embeddings\n\u001b[1;32m    237\u001b[0m embeddings \u001b[39m=\u001b[39m \u001b[39mself\u001b[39m\u001b[39m.\u001b[39mLayerNorm(embeddings)\n\u001b[0;32m--> 238\u001b[0m embeddings \u001b[39m=\u001b[39m \u001b[39mself\u001b[39m\u001b[39m.\u001b[39mdropout(embeddings)\n\u001b[1;32m    239\u001b[0m \u001b[39mreturn\u001b[39;00m embeddings\n",
      "File \u001b[0;32m~/anaconda3/lib/python3.11/site-packages/torch/nn/modules/module.py:1501\u001b[0m, in \u001b[0;36mModule._call_impl\u001b[0;34m(self, *args, **kwargs)\u001b[0m\n\u001b[1;32m   1496\u001b[0m \u001b[39m# If we don't have any hooks, we want to skip the rest of the logic in\u001b[39;00m\n\u001b[1;32m   1497\u001b[0m \u001b[39m# this function, and just call forward.\u001b[39;00m\n\u001b[1;32m   1498\u001b[0m \u001b[39mif\u001b[39;00m \u001b[39mnot\u001b[39;00m (\u001b[39mself\u001b[39m\u001b[39m.\u001b[39m_backward_hooks \u001b[39mor\u001b[39;00m \u001b[39mself\u001b[39m\u001b[39m.\u001b[39m_backward_pre_hooks \u001b[39mor\u001b[39;00m \u001b[39mself\u001b[39m\u001b[39m.\u001b[39m_forward_hooks \u001b[39mor\u001b[39;00m \u001b[39mself\u001b[39m\u001b[39m.\u001b[39m_forward_pre_hooks\n\u001b[1;32m   1499\u001b[0m         \u001b[39mor\u001b[39;00m _global_backward_pre_hooks \u001b[39mor\u001b[39;00m _global_backward_hooks\n\u001b[1;32m   1500\u001b[0m         \u001b[39mor\u001b[39;00m _global_forward_hooks \u001b[39mor\u001b[39;00m _global_forward_pre_hooks):\n\u001b[0;32m-> 1501\u001b[0m     \u001b[39mreturn\u001b[39;00m forward_call(\u001b[39m*\u001b[39margs, \u001b[39m*\u001b[39m\u001b[39m*\u001b[39mkwargs)\n\u001b[1;32m   1502\u001b[0m \u001b[39m# Do not call functions when jit is used\u001b[39;00m\n\u001b[1;32m   1503\u001b[0m full_backward_hooks, non_full_backward_hooks \u001b[39m=\u001b[39m [], []\n",
      "File \u001b[0;32m~/anaconda3/lib/python3.11/site-packages/torch/nn/modules/dropout.py:59\u001b[0m, in \u001b[0;36mDropout.forward\u001b[0;34m(self, input)\u001b[0m\n\u001b[1;32m     58\u001b[0m \u001b[39mdef\u001b[39;00m \u001b[39mforward\u001b[39m(\u001b[39mself\u001b[39m, \u001b[39minput\u001b[39m: Tensor) \u001b[39m-\u001b[39m\u001b[39m>\u001b[39m Tensor:\n\u001b[0;32m---> 59\u001b[0m     \u001b[39mreturn\u001b[39;00m F\u001b[39m.\u001b[39mdropout(\u001b[39minput\u001b[39m, \u001b[39mself\u001b[39m\u001b[39m.\u001b[39mp, \u001b[39mself\u001b[39m\u001b[39m.\u001b[39mtraining, \u001b[39mself\u001b[39m\u001b[39m.\u001b[39minplace)\n",
      "File \u001b[0;32m~/anaconda3/lib/python3.11/site-packages/torch/nn/functional.py:1252\u001b[0m, in \u001b[0;36mdropout\u001b[0;34m(input, p, training, inplace)\u001b[0m\n\u001b[1;32m   1250\u001b[0m \u001b[39mif\u001b[39;00m p \u001b[39m<\u001b[39m \u001b[39m0.0\u001b[39m \u001b[39mor\u001b[39;00m p \u001b[39m>\u001b[39m \u001b[39m1.0\u001b[39m:\n\u001b[1;32m   1251\u001b[0m     \u001b[39mraise\u001b[39;00m \u001b[39mValueError\u001b[39;00m(\u001b[39m\"\u001b[39m\u001b[39mdropout probability has to be between 0 and 1, \u001b[39m\u001b[39m\"\u001b[39m \u001b[39m\"\u001b[39m\u001b[39mbut got \u001b[39m\u001b[39m{}\u001b[39;00m\u001b[39m\"\u001b[39m\u001b[39m.\u001b[39mformat(p))\n\u001b[0;32m-> 1252\u001b[0m \u001b[39mreturn\u001b[39;00m _VF\u001b[39m.\u001b[39mdropout_(\u001b[39minput\u001b[39m, p, training) \u001b[39mif\u001b[39;00m inplace \u001b[39melse\u001b[39;00m _VF\u001b[39m.\u001b[39mdropout(\u001b[39minput\u001b[39m, p, training)\n",
      "\u001b[0;31mKeyboardInterrupt\u001b[0m: "
     ]
    }
   ],
   "source": [
    "if __name__ == \"__main__\":\n",
    "    cross_validate(3,42)"
   ]
  }
 ],
 "metadata": {
  "kernelspec": {
   "display_name": "Python 3 (ipykernel)",
   "language": "python",
   "name": "python3"
  },
  "language_info": {
   "codemirror_mode": {
    "name": "ipython",
    "version": 3
   },
   "file_extension": ".py",
   "mimetype": "text/x-python",
   "name": "python",
   "nbconvert_exporter": "python",
   "pygments_lexer": "ipython3",
   "version": "3.11.4"
  }
 },
 "nbformat": 4,
 "nbformat_minor": 5
}
