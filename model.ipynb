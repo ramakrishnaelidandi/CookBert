{
 "cells": [
  {
   "cell_type": "code",
   "execution_count": 43,
   "id": "e66e6155",
   "metadata": {},
   "outputs": [],
   "source": [
    "import torch\n",
    "import pandas as pd\n",
    "import transformers "
   ]
  },
  {
   "cell_type": "code",
   "execution_count": 44,
   "id": "471d3263",
   "metadata": {},
   "outputs": [],
   "source": [
    "from transformers import AutoTokenizer, Trainer, TrainingArguments"
   ]
  },
  {
   "cell_type": "code",
   "execution_count": 45,
   "id": "ac5babff",
   "metadata": {
    "scrolled": true
   },
   "outputs": [],
   "source": [
    "%run utliss.ipynb -- quiet"
   ]
  },
  {
   "cell_type": "code",
   "execution_count": 35,
   "id": "9b49a3d1",
   "metadata": {},
   "outputs": [],
   "source": [
    "# from utliss import LABEL2ID\n",
    "CONFIG ={\n",
    "    'bert_type' : 'distilbert-base-cased',\n",
    "    'label2id' : LABEL2ID,\n",
    "    'training_args' : {'output_dir' : './Cook_bert',\n",
    "                       'fp16': True,\n",
    "                       \"learning_rate\": 2e-5\n",
    "                      }\n",
    "}"
   ]
  },
  {
   "cell_type": "code",
   "execution_count": 37,
   "id": "767cc88b",
   "metadata": {},
   "outputs": [],
   "source": [
    "def tokenize_and_allign(reciepe, labels, tokenizer, token_ids):\n",
    "    \"\"\"\n",
    "    :param recipes: list of lists of words from a recipe\n",
    "    :param labels: list of lists of labels from a recipe\n",
    "    :return: a dictionary of tokens of recipes and a optional allign token labels\n",
    "\n",
    "    \"\"\"\n",
    "    \n",
    "    tokens = tokenizer(reciepe, truncation = True, is_split_into_words = True, max_length = 128)\n",
    "\n",
    "    aligned_tokens = []\n",
    "    for recipe_id in range(len(reciepe)):\n",
    "        \n",
    "    \n",
    "    \n",
    "    return tokens"
   ]
  },
  {
   "cell_type": "code",
   "execution_count": 40,
   "id": "8ad154c3",
   "metadata": {},
   "outputs": [],
   "source": [
    "class TastyModel():\n",
    "    def __init__(self, config):\n",
    "        self.config = config\n",
    "        bert_type = self.config['bert_type']\n",
    "        self.tokenizer = AutoTokenizer.from_pretrained(bert_type)\n",
    "        self.id2label = {v:k for k,v in CONFIG['label2id']}\n",
    "        self.label2id = CONFIG['label2id']\n",
    "        \n",
    "    def prepare_data(self, reciepe, labels):\n",
    "        data = tokenize_and_allign(reciepe = reciepe, labels = labels, tokenizer = self.tokenizer,token_ids = self.config['label2id'])"
   ]
  },
  {
   "cell_type": "code",
   "execution_count": 115,
   "id": "72ce7c5d",
   "metadata": {},
   "outputs": [],
   "source": [
    "tokenixx = AutoTokenizer.from_pretrained('distilbert-base-cased')\n",
    "tokens = tokenixx(recipes, truncation = True, is_split_into_words = True, max_length= 128)"
   ]
  },
  {
   "cell_type": "code",
   "execution_count": 119,
   "id": "2cd06530",
   "metadata": {},
   "outputs": [
    {
     "name": "stdout",
     "output_type": "stream",
     "text": [
      "['[CLS]', 'F', '##O', '##OD', 'F', '##O', '##OD', 'F', '##O', '##OD', 'T', '##AS', '##TE', 'CO', '##L', '##OR', 'F', '##O', '##OD', 'CO', '##L', '##OR', 'F', '##O', '##OD', 'F', '##O', '##OD', 'F', '##O', '##OD', '[SEP]']\n",
      "[None, 0, 0, 0, 1, 1, 1, 2, 2, 2, 3, 3, 3, None]\n"
     ]
    }
   ],
   "source": [
    "print(tokens.tokens(7))\n",
    "print(tokens.word_ids())"
   ]
  },
  {
   "cell_type": "code",
   "execution_count": 107,
   "id": "26c22f81",
   "metadata": {},
   "outputs": [],
   "source": [
    "# type(df.NER_tags)\n",
    "recipes = df.NER_tags.tolist()\n",
    "labels = df.entities.tolist()"
   ]
  },
  {
   "cell_type": "code",
   "execution_count": null,
   "id": "ba816e4a",
   "metadata": {},
   "outputs": [],
   "source": []
  }
 ],
 "metadata": {
  "kernelspec": {
   "display_name": "Python 3 (ipykernel)",
   "language": "python",
   "name": "python3"
  },
  "language_info": {
   "codemirror_mode": {
    "name": "ipython",
    "version": 3
   },
   "file_extension": ".py",
   "mimetype": "text/x-python",
   "name": "python",
   "nbconvert_exporter": "python",
   "pygments_lexer": "ipython3",
   "version": "3.11.4"
  }
 },
 "nbformat": 4,
 "nbformat_minor": 5
}
