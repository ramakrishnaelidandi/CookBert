{
 "cells": [
  {
   "cell_type": "code",
   "execution_count": 150,
   "id": "e66e6155",
   "metadata": {},
   "outputs": [],
   "source": [
    "import numpy as np\n",
    "import pandas as pd\n",
    "import transformers \n",
    "from sklearn.model_selection import KFold\n",
    "import re\n",
    "import json"
   ]
  },
  {
   "cell_type": "code",
   "execution_count": 151,
   "id": "471d3263",
   "metadata": {},
   "outputs": [],
   "source": [
    "from transformers import (BertForTokenClassification, AutoTokenizer, Trainer,\n",
    "                          TrainingArguments, DataCollatorForTokenClassification)\n",
    "from datasets import Dataset"
   ]
  },
  {
   "cell_type": "code",
   "execution_count": 152,
   "id": "ac5babff",
   "metadata": {
    "scrolled": true
   },
   "outputs": [],
   "source": [
    "%run utliss.ipynb -- quiet"
   ]
  },
  {
   "cell_type": "code",
   "execution_count": null,
   "id": "c6c27e09",
   "metadata": {},
   "outputs": [],
   "source": []
  },
  {
   "cell_type": "code",
   "execution_count": 166,
   "id": "9b49a3d1",
   "metadata": {},
   "outputs": [],
   "source": [
    "# from utliss import LABEL2ID\n",
    "CONFIG ={\n",
    "    'bert_type' : 'distilbert-base-cased',\n",
    "    'label2id' : LABEL2ID,\n",
    "    'training_args' : {\n",
    "        \"output_dir\": './bert-checkpoints',\n",
    "        \"learning_rate\": 2e-5,\n",
    "        \"per_device_train_batch_size\": 16,\n",
    "        \"per_device_eval_batch_size\": 32,\n",
    "        \"num_train_epochs\": 30,\n",
    "        \"weight_decay\": 0.01,\n",
    "        'fp16': True\n",
    "                      },\n",
    "    'only_first_token': False,\n",
    "    'max_length' : 128\n",
    "}"
   ]
  },
  {
   "cell_type": "code",
   "execution_count": 167,
   "id": "8dcf07ff",
   "metadata": {},
   "outputs": [
    {
     "data": {
      "text/plain": [
       "{'output_dir': './bert-checkpoints',\n",
       " 'learning_rate': 2e-05,\n",
       " 'per_device_train_batch_size': 16,\n",
       " 'per_device_eval_batch_size': 32,\n",
       " 'num_train_epochs': 30,\n",
       " 'weight_decay': 0.01,\n",
       " 'fp16': True}"
      ]
     },
     "execution_count": 167,
     "metadata": {},
     "output_type": "execute_result"
    }
   ],
   "source": [
    "CONFIG['training_args']"
   ]
  },
  {
   "cell_type": "code",
   "execution_count": 168,
   "id": "767cc88b",
   "metadata": {},
   "outputs": [],
   "source": [
    "def tokenize_and_allign(reciepe, labels, tokenizer, label_ids, only_first_token):\n",
    "    \"\"\"\n",
    "    :param recipes: list of lists of words from a recipe\n",
    "    :param labels: list of lists of labels from a recipe\n",
    "    :return: a dictionary of tokens of recipes and a optional allign token labels\n",
    "\n",
    "    \"\"\"\n",
    "    \n",
    "    tokens = tokenizer(reciepe, truncation = True, is_split_into_words = True, max_length = 128)\n",
    "\n",
    "    aligned_tokens_entities = []\n",
    "\n",
    "    for reciepe_id in range(len(reciepe)):\n",
    "        word_ids = tokens.word_ids(reciepe_id)\n",
    "        prev_id = None\n",
    "        curr_entities = []\n",
    "        for idx in word_ids:\n",
    "            if idx!= prev_id:\n",
    "                curr_entities.append(-100 if idx == None else label_ids[\"B-\"+labels[reciepe_id][idx]])\n",
    "            elif idx == None:\n",
    "                curr_entities.append(-100)\n",
    "            else:\n",
    "                curr_entities.append(-100 if only_first_token else label_ids[\"I-\"+labels[reciepe_id][idx]])\n",
    "            prev_id = idx\n",
    "        aligned_tokens_entities.append(curr_entities)\n",
    "    tokens['entities']  = aligned_tokens_entities\n",
    "    tokens['recipes'] = reciepe\n",
    "    return tokens"
   ]
  },
  {
   "cell_type": "code",
   "execution_count": 169,
   "id": "39a93d89",
   "metadata": {},
   "outputs": [],
   "source": [
    "tok = tokenize_and_allign(recipes, labels, tokenixx, CONFIG['label2id'],False )"
   ]
  },
  {
   "cell_type": "code",
   "execution_count": 170,
   "id": "0e98354d",
   "metadata": {},
   "outputs": [
    {
     "name": "stdout",
     "output_type": "stream",
     "text": [
      "['[CLS]', 'c', '##innamon', 'roll', 're', '##f', '##rig', '##erated', 'with', 'i', '##cing', 'butter', 'melted', 'eggs', 'milk', 'c', '##innamon', 'van', '##illa', 'maple', 'syrup', '[SEP]']\n",
      "[None, 0, 0, 0, 1, 1, 1, 1, 2, 3, 3, 4, 5, 6, 7, 8, 8, 9, 9, 10, 10, None]\n",
      "[-100, 1, 2, 2, 7, 8, 8, 8, 1, 1, 2, 1, 7, 1, 1, 1, 2, 1, 2, 1, 2, -100]\n",
      "['cinnamon roll', 'refrigerated', 'with', 'icing', 'butter', 'melted', 'eggs', 'milk', 'cinnamon', 'vanilla', 'maple syrup']\n",
      "{'0': 0, 'B-FOOD': 1, 'I-FOOD': 2, 'B-TASTE': 3, 'I-TASTE': 4, 'B-COLOR': 5, 'I-COLOR': 6, 'B-PROCESS': 7, 'I-PROCESS': 8, 'B-PHYSICAL_QUALITY': 9, 'I-PHYSICAL_QUALITY': 10, 'B-PART': 11, 'I-PART': 12, 'B-PURPOSE': 13, 'I-PURPOSE': 14}\n"
     ]
    }
   ],
   "source": [
    "print(tok.tokens(1))\n",
    "print(tok.word_ids(1))\n",
    "print(tok.entities[1])\n",
    "print(tok.recipes[1])\n",
    "print(CONFIG['label2id'])"
   ]
  },
  {
   "cell_type": "markdown",
   "id": "e92cdbc7",
   "metadata": {},
   "source": [
    "model building"
   ]
  },
  {
   "cell_type": "code",
   "execution_count": 171,
   "id": "18ae2ff2",
   "metadata": {},
   "outputs": [],
   "source": [
    "def check_if_entity_correctly_began(entity, prev_entity):\n",
    "    \"\"\"\n",
    "    This function checks if \"I-\" entity is preceded with \"B-\" or \"I-\". For\n",
    "    example, \"I-FOOD\" should not happen after \"O\" or after \"B-QUANT\".\n",
    "    :param entity:\n",
    "    :param prev_entity:\n",
    "    :return: bool\n",
    "    \"\"\"\n",
    "    if \"I-\" in entity and re.sub(r\"[BI]-\", \"\", entity) != \\\n",
    "            re.sub(r\"[BI]-\", \"\", prev_entity):\n",
    "        return False\n",
    "    return True\n",
    "\n",
    "\n",
    "def token_to_entity_predictions(text_split_words, text_split_tokens,\n",
    "                                token_labels, id2label):\n",
    "    \"\"\"\n",
    "    Transform token (subword) predictions into word predictions.\n",
    "    :param text_split_words: list of words from one recipe, eg. [\"I\", \"eat\",\n",
    "    \"chicken\"] (the ones that go to tokenizer)\n",
    "    :param text_split_tokens: list of tokens from one recipe, eg. [\"I\", \"eat\",\n",
    "    \"chic\", \"##ken\"] (the ones that arise\n",
    "    from input decoding)\n",
    "    :param token_labels: list of labels associated with each token from\n",
    "    text_split_tokens\n",
    "    :param id2label: a mapping from ids (0, 1, ...) to labels (\"B-FOOD\",\n",
    "    \"I-FOOD\", ...)\n",
    "    :return: a list of entities associated with each word from text_split_words,\n",
    "    ie. entities extracted from a recipe\n",
    "    \"\"\"\n",
    "\n",
    "    word_idx = 0\n",
    "    word_entities = []\n",
    "    word_from_tokens = \"\"\n",
    "    word_entity = \"\"\n",
    "    prev_word_entity = \"\"\n",
    "\n",
    "    for token_label, token in zip(token_labels, text_split_tokens):\n",
    "        if token in [\"[SEP]\", \"[CLS]\"]:\n",
    "            continue\n",
    "        word_from_tokens += re.sub(r\"^##\", \"\", token)\n",
    "        # take the entity associated with the first token (subword)\n",
    "        word_entity = id2label[token_label] if word_entity == \"\" \\\n",
    "            else word_entity\n",
    "\n",
    "        if word_from_tokens == text_split_words[word_idx] or\\\n",
    "                word_from_tokens == \"[UNK]\":\n",
    "            word_idx += 1\n",
    "            # replace entities containing \"I-\" that do not have a predecessor\n",
    "            # with \"B-\"\n",
    "            word_entity = \"O\" if not \\\n",
    "                check_if_entity_correctly_began(word_entity, prev_word_entity) \\\n",
    "                else word_entity\n",
    "            word_entities.append(word_entity)\n",
    "            word_from_tokens = \"\"\n",
    "            prev_word_entity = word_entity\n",
    "            word_entity = \"\"\n",
    "\n",
    "    return word_entities"
   ]
  },
  {
   "cell_type": "code",
   "execution_count": 172,
   "id": "705d6a43",
   "metadata": {
    "notebookRunGroups": {
     "groupValue": ""
    }
   },
   "outputs": [],
   "source": [
    "class TastyModel():\n",
    "    def __init__(self, config, recipe, labels):\n",
    "        self.config = config\n",
    "        self.tokenizer = AutoTokenizer.from_pretrained(self.config['bert_type'])\n",
    "        self.id2label = {v:k for k,v in CONFIG['label2id'].items()}\n",
    "        self.label2id = self.config['label2id']\n",
    "\n",
    "        model = BertForTokenClassification.from_pretrained(self.config['bert_type'],\n",
    "            num_labels=len(self.config[\"label2id\"]),\n",
    "            label2id=self.label2id,\n",
    "            id2label=self.id2label,\n",
    "            classifier_dropout=0.2\n",
    "        )\n",
    "        training_args = TrainingArguments(**self.config['training_args'])\n",
    "\n",
    "        self.trainer = Trainer(\n",
    "            model=model,\n",
    "            args=training_args,\n",
    "            train_dataset=recipe,\n",
    "            tokenizer=self.tokenizer,\n",
    "            data_collator=DataCollatorForTokenClassification(\n",
    "                tokenizer=self.tokenizer, max_length= self.config['max_length'],padding= 'max_length')\n",
    "                )\n",
    "    def train(self, train_reciepe, train_entities):\n",
    "\n",
    "        _, train_dataset = tokenize_and_allign(train_reciepe, train_entities, self.tokenizer, self.label2id,self.config['only_first_token'])\n",
    "\n",
    "        self.trainer.train_dataset = train_dataset\n",
    "\n",
    "        self.trainer.train()\n",
    "    \n",
    "    def eval(self, eval_reciepe, eval_entities):\n",
    "        \n",
    "        eval_preditions = self.predict(eval_reciepe)\n",
    "        results = evaluate_predictions(eval_entities,eval_preditions)\n",
    "        return results\n",
    "        \n",
    "\n",
    "    def predict(self, recipes):\n",
    "\n",
    "        predicted_entities = []\n",
    "\n",
    "        data, dataset = self.prepare_data(recipes,[])\n",
    "\n",
    "        preds = self.trainer.predict(dataset)\n",
    "\n",
    "        token_probs = preds[0]\n",
    "\n",
    "        token_labels = token_probs.argmax(axis=2)\n",
    "\n",
    "        num_of_recipes = dataset.num_rows\n",
    "\n",
    "        for recipe_idx in range(num_of_recipes):\n",
    "            text_split_words = recipes[recipe_idx]\n",
    "            text_split_tokens = self.tokenizer.convert_ids_to_tokens(\n",
    "                data[\"input_ids\"][recipe_idx])\n",
    "            word_entities = token_to_entity_predictions(\n",
    "                    text_split_words,\n",
    "                    text_split_tokens,\n",
    "                    token_labels[recipe_idx],\n",
    "                    self.id2label\n",
    "                )\n",
    "            predicted_entities.append(word_entities)\n",
    "        \n",
    "        return predicted_entities\n",
    "            \n",
    "\n",
    "\n",
    "        \n",
    "    def prepare_data(self, reciepe, labels):\n",
    "        data = tokenize_and_allign(reciepe = reciepe, labels = labels, tokenizer = self.tokenizer, label_ids = self.config['label2id'], \n",
    "                                   only_first_token= self.config['only_first_token'])\n",
    "        \n",
    "        dataset = Dataset(data) ## give the dataset in shape of(700,4) 700 rows and 4 columns are [input_ids, attention_mask, entites, reciepes]\n",
    "        \n",
    "        return data, dataset"
   ]
  },
  {
   "cell_type": "code",
   "execution_count": 175,
   "id": "3bec49f9",
   "metadata": {},
   "outputs": [],
   "source": [
    "def cross_validate(no_of_folds,seed):\n",
    "\n",
    "    CONFIG[\"training_args\"][\"seed\"] = seed\n",
    "\n",
    "    bio_recipes, bio_entities = df.entities.tolist(), df.NER_tags.tolist()\n",
    "\n",
    "    kf = KFold(n_splits = no_of_folds, shuffle=True)\n",
    "    cross_val_results = {}\n",
    "\n",
    "    for fold_id, (train_index, test_index) in enumerate(kf.split(bio_entities)):\n",
    "        tr_recipes, vl_recipes = [bio_recipes[idx] for idx in train_index], \\\n",
    "                                 [bio_recipes[idx] for idx in test_index]\n",
    "        tr_entities, vl_entities = [bio_entities[idx] for idx in train_index], \\\n",
    "                                   [bio_entities[idx] for idx in test_index]\n",
    "\n",
    "        model = TastyModel(CONFIG,bio_recipes, bio_entities)\n",
    "        model.train(tr_recipes, tr_entities)\n",
    "        results = model.evaluate(vl_recipes, vl_entities)\n",
    "        print(results)\n",
    "        cross_val_results[fold_id] = results\n",
    "\n",
    "    with open(\"bert_cross_val_results.json\", \"w\") as json_file:\n",
    "        json.dump(cross_val_results, json_file, indent=4)\n",
    "\n",
    "    # aggregate and print results\n",
    "    cross_val_results_aggregated = {\n",
    "        entity: {\"precision\": [], \"recall\": [], \"f1\": []} for entity in\n",
    "        ENTITIES + [\"all\"]\n",
    "    }\n",
    "\n",
    "    print(f\"{'entity':^20s}{'precision':^15s}{'recall':^15s}{'f1-score':^15s}\")\n",
    "    for entity in cross_val_results_aggregated.keys():\n",
    "        print(f\"{entity:^20s}\", end=\"\")\n",
    "        for metric in cross_val_results_aggregated[entity].keys():\n",
    "            for fold_id in range(no_of_folds):\n",
    "                cross_val_results_aggregated[entity][metric].append(\n",
    "                    cross_val_results[fold_id][entity][metric]\n",
    "                )\n",
    "\n",
    "            mean = np.mean(cross_val_results_aggregated[entity][metric])\n",
    "            mean = int(mean * 1000) / 1000\n",
    "            std = np.std(cross_val_results_aggregated[entity][metric])\n",
    "            std = int(std * 1000) / 1000 + 0.001 * \\\n",
    "                  round(std - int(std * 1000) / 1000)\n",
    "            print(f\"{mean:^2.3f} +- {std:^2.3f} \", end=\"\")\n",
    "        print()"
   ]
  },
  {
   "cell_type": "code",
   "execution_count": null,
   "id": "ad46465e",
   "metadata": {},
   "outputs": [],
   "source": [
    "if __name__ == \"__main__\":\n",
    "    cross_validate(10,42)"
   ]
  }
 ],
 "metadata": {
  "kernelspec": {
   "display_name": "Python 3 (ipykernel)",
   "language": "python",
   "name": "python3"
  },
  "language_info": {
   "codemirror_mode": {
    "name": "ipython",
    "version": 3
   },
   "file_extension": ".py",
   "mimetype": "text/x-python",
   "name": "python",
   "nbconvert_exporter": "python",
   "pygments_lexer": "ipython3",
   "version": "3.11.4"
  }
 },
 "nbformat": 4,
 "nbformat_minor": 5
}
